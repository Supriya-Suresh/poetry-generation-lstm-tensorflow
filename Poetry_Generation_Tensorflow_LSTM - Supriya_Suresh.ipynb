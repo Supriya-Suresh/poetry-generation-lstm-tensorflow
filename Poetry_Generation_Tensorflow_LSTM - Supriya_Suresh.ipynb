{
  "nbformat": 4,
  "nbformat_minor": 0,
  "metadata": {
    "colab": {
      "provenance": [],
      "collapsed_sections": []
    },
    "kernelspec": {
      "name": "python3",
      "display_name": "Python 3"
    },
    "language_info": {
      "name": "python"
    }
  },
  "cells": [
    {
      "cell_type": "markdown",
      "metadata": {
        "id": "4MKC9kEY1i0b"
      },
      "source": [
        "### Import Libraries:"
      ]
    },
    {
      "cell_type": "code",
      "metadata": {
        "id": "66moE-hT1UKM"
      },
      "source": [
        "# 1\n",
        "import tensorflow as tf\n",
        "import string\n",
        "import numpy as np\n",
        "import pandas as pd\n",
        "import matplotlib.pyplot as plt\n",
        "import requests"
      ],
      "execution_count": 1,
      "outputs": []
    },
    {
      "cell_type": "code",
      "metadata": {
        "id": "Iyr18HnE1v5t"
      },
      "source": [
        "# 2\n",
        "poetry_response = requests.get(\"https://raw.githubusercontent.com/Supriya-Suresh/Poetry-Generation-LSTM-Tensorflow/main/adele.txt\")"
      ],
      "execution_count": 2,
      "outputs": []
    },
    {
      "cell_type": "code",
      "metadata": {
        "colab": {
          "base_uri": "https://localhost:8080/",
          "height": 157
        },
        "id": "fz2fa0Q93kHC",
        "outputId": "8ca2dffd-8b22-41dd-8814-140f49d2679a"
      },
      "source": [
        "# 3\n",
        "print(\"Response Value: \", poetry_response.status_code, \"\\n\")\n",
        "poetry_response.text"
      ],
      "execution_count": 3,
      "outputs": [
        {
          "output_type": "stream",
          "name": "stdout",
          "text": [
            "Response Value:  200 \n",
            "\n"
          ]
        },
        {
          "output_type": "execute_result",
          "data": {
            "text/plain": [
              "'Looking for some education\\r\\nMade my way into the night\\r\\nAll that bullshit conversation\\r\\nBaby, can\\'t you read the signs? I won\\'t bore you with the details, baby\\r\\nI don\\'t even wanna waste your time\\r\\nLet\\'s just say that maybe\\r\\nYou could help me ease my mind\\r\\nI ain\\'t Mr. Right But if you\\'re looking for fast love\\r\\nIf that\\'s love in your eyes\\r\\nIt\\'s more than enough\\r\\nHad some bad love\\r\\nSo fast love is all that I\\'ve got on my mind Ooh, ooh\\r\\nOoh, ooh Looking for some affirmation\\r\\nMade my way into the sun\\r\\nMy friends got their ladies\\r\\nAnd they\\'re all having babies\\r\\nI just wanna have some fun I won\\'t bore you with the details, baby\\r\\nI don\\'t even wanna waste your time\\r\\nLet\\'s just say that maybe\\r\\nYou could help me ease my mind\\r\\nI ain\\'t Mr. Right But if you\\'re looking for fast love\\r\\nIf that\\'s love in your eyes\\r\\nIt\\'s more than enough\\r\\nI\\'ve had some bad love\\r\\nSo fast love is all that I\\'ve got on my mind Ooh, ooh\\r\\nBaby, baby\\r\\nOoh, ooh\\r\\nBaby, baby\\r\\nOoh, ooh\\r\\nBaby, baby\\r\\nOoh In the absence of security\\r\\nI made my way into the night\\r\\nStupid cupid keeps on calling me\\r\\nAnd I see nothing in his eyes\\r\\nI miss my baby\\r\\nOh I, I miss my baby\\r\\nI miss my baby\\r\\nI miss, I miss, I miss, I miss my baby\\r\\nOoh I, I miss my baby I don\\'t want you to be no slave\\r\\nI don\\'t want you to work all day\\r\\nBut I want you to be true\\r\\nAnd I just want to make love to you\\r\\nLove to you, ooh baby\\r\\nLove to you, yeah All I want to do is wash your clothes\\r\\nI don\\'t want to keep you indoors\\r\\nThere is nothing you can\\'t do\\r\\nBut keep me making love to me\\r\\nLove to me, ooh baby\\r\\nLove to you, yeah And I can tell by the way you walk that walk\\r\\nAnd I can hear by the way you talk that talk\\r\\nAnd I can know by the way you treat your girl\\r\\nThat I can give you all the loving in the whole wide world All I want you to do is make your bread\\r\\nJust to make sure you\\'re well fed\\r\\nI don\\'t want you sad and blue\\r\\nAnd I just want to make love to you\\r\\nLove to you, ooh yeah\\r\\nLove to you, yeah And I can tell by the way you walk that walk\\r\\nAnd I can hear by the way you talk that talk\\r\\nAnd I can know by the way you treat your girl\\r\\nThat I can give you all the loving in the whole wide world All I want you to do baby is make your bread\\r\\nJust to make sure you\\'re well fed\\r\\nI don\\'t want you sad and blue\\r\\nAnd I just want to make love to you\\r\\nLove to you, ooh yeah\\r\\nLove to you, yeah\\r\\nOh I just want to make love to you Happy New Year! I heard that you\\'re settled down\\r\\nThat you found a girl and you\\'re married now\\r\\nI heard that your dreams came true\\r\\nGuess she gave you things I didn\\'t give to you Old friend, why are you so shy?\\r\\nAin\\'t like you to hold back or hide from the light I hate to turn up out of the blue, uninvited\\r\\nBut I couldn\\'t stay away, I couldn\\'t fight it\\r\\nI had hoped you\\'d see my face and that you\\'d be reminded\\r\\nThat for me, it isn\\'t over Never mind, I\\'ll find someone like you\\r\\nI wish nothing but the best for you two\\r\\nDon\\'t forget me, I beg, I remember you said\\r\\nSometimes it lasts in love, but sometimes it hurts instead\\r\\nSometimes it lasts in love, but sometimes it hurts instead You know how the time flies\\r\\nOnly yesterday was the time of our lives\\r\\nWe were born and raised in a summer haze\\r\\nBound by the surprise of our glory days I hate to turn up out of the blue, uninvited\\r\\nBut I couldn\\'t stay away, I couldn\\'t fight it\\r\\nI had hoped you\\'d see my face and that you\\'d be reminded\\r\\nThat for me, it isn\\'t over Never mind, I\\'ll find someone like you\\r\\nI wish nothing but the best for you two\\r\\nDon\\'t forget me, I beg, I remember you said\\r\\nSometimes it lasts in love, but sometimes it hurts instead, yeah Nothing compares, no worries or cares\\r\\nRegrets and mistakes, they\\'re memories made\\r\\nWho would have known how bittersweet this would taste? Never mind, I\\'ll find someone like you\\r\\nI wish nothing but the best for you\\r\\nDon\\'t forget me, I beg, I remember you said\\r\\nSometimes it lasts in love, but sometimes it hurts instead Never mind, I\\'ll find someone like you\\r\\nI wish nothing but the best for you two\\r\\nDon\\'t forget me, I beg, I remember you said\\r\\nSometimes it lasts in love, but sometimes it hurts instead\\r\\nSometimes it lasts in love, but sometimes it hurts instead There\\'s a fire starting in my heart\\r\\nReaching a fever pitch, it\\'s bringing me out the dark\\r\\nFinally I can see you crystal clear\\r\\n[Clean version:] Go \\'head and sell me out and I\\'ll lay your ship bare\\r\\n[Explicit version:] Go \\'head and sell me out and I\\'ll lay your shit bare\\r\\nSee how I leave with every piece of you\\r\\nDon\\'t underestimate the things that I will do There\\'s a fire starting in my heart\\r\\nReaching a fever pitch\\r\\nAnd it\\'s bringing me out the dark The scars of your love remind me of us\\r\\nThey keep me thinking that we almost had it all\\r\\nThe scars of your love, they leave me breathless\\r\\nI can\\'t help feeling\\r\\nWe could have had it all\\r\\n(You\\'re gonna wish you never had met me)\\r\\nRolling in the deep\\r\\n(Tears are gonna fall, rolling in the deep)\\r\\nYou had my heart inside of your hand\\r\\n(You\\'re gonna wish you never had met me)\\r\\nAnd you played it, to the beat\\r\\n(Tears are gonna fall, rolling in the deep) Baby, I have no story to be told\\r\\nBut I\\'ve heard one on you\\r\\nAnd I\\'m gonna make your head burn\\r\\nThink of me in the depths of your despair\\r\\nMake a home down there\\r\\nAs mine sure won\\'t be shared (You\\'re gonna wish you never had met me)\\r\\nThe scars of your love remind me of us\\r\\n(Tears are gonna fall, rolling in the deep)\\r\\nThey keep me thinking that we almost had it all\\r\\n(You\\'re gonna wish you never had met me)\\r\\nThe scars of your love, they leave me breathless\\r\\n(Tears are gonna fall, rolling in the deep)\\r\\nI can\\'t help feeling\\r\\nWe could have had it all\\r\\n(You\\'re gonna wish you never had met me)\\r\\nRolling in the deep\\r\\n(Tears are gonna fall, rolling in the deep)\\r\\nYou had my heart inside of your hand\\r\\n(You\\'re gonna wish you never had met me)\\r\\nAnd you played it, to the beat\\r\\n(Tears are gonna fall, rolling in the deep)\\r\\nWe could have had it all\\r\\nRolling in the deep\\r\\nYou had my heart inside of your hand\\r\\nBut you played it, with a beating Throw your soul through every open door (woah)\\r\\nCount your blessings to find what you look for (woah)\\r\\nTurn my sorrow into treasured gold (woah)\\r\\nYou\\'ll pay me back in kind and reap just what you sow (woah)\\r\\n(You\\'re gonna wish you never had met me)\\r\\nWe could have had it all\\r\\n(Tears are gonna fall, rolling in the deep)\\r\\nWe could have had it all\\r\\n(You\\'re gonna wish you never had met me)\\r\\nIt all, it all, it all\\r\\n(Tears are gonna fall, rolling in the deep) We could have had it all\\r\\n(You\\'re gonna wish you never had met me)\\r\\nRolling in the deep\\r\\n(Tears are gonna fall, rolling in the deep)\\r\\nYou had my heart inside of your hand\\r\\n(You\\'re gonna wish you never had met me)\\r\\nAnd you played it to the beat\\r\\n(Tears are gonna fall, rolling in the deep) We could have had it all\\r\\n(You\\'re gonna wish you never had met me)\\r\\nRolling in the deep\\r\\n(Tears are gonna fall, rolling in the deep)\\r\\nYou had my heart inside of your hand\\r\\n(You\\'re gonna wish you never had met me) But you played it\\r\\nYou played it\\r\\nYou played it\\r\\nYou played it to the beat. Hello, it\\'s me\\r\\nI was wondering if after all these years you\\'d like to meet\\r\\nTo go over everything\\r\\nThey say that time\\'s supposed to heal ya\\r\\nBut I ain\\'t done much healing Hello, can you hear me?\\r\\nI\\'m in California dreaming about who we used to be\\r\\nWhen we were younger and free\\r\\nI\\'ve forgotten how it felt before the world fell at our feet There\\'s such a difference between us\\r\\nAnd a million miles Hello from the other side\\r\\nI must\\'ve called a thousand times\\r\\nTo tell you I\\'m sorry\\r\\nFor everything that I\\'ve done\\r\\nBut when I call you never\\r\\nSeem to be home Hello from the outside\\r\\nAt least I can say that I\\'ve tried\\r\\nTo tell you I\\'m sorry\\r\\nFor breaking your heart\\r\\nBut it don\\'t matter, it clearly\\r\\nDoesn\\'t tear you apart anymore Hello, how are you?\\r\\nIt\\'s so typical of me to talk about myself, I\\'m sorry\\r\\nI hope that you\\'re well\\r\\nDid you ever make it out of that town\\r\\nWhere nothing ever happened? It\\'s no secret\\r\\nThat the both of us\\r\\nAre running out of time So hello from the other side (other side)\\r\\nI must\\'ve called a thousand times (thousand times)\\r\\nTo tell you I\\'m sorry\\r\\nFor everything that I\\'ve done\\r\\nBut when I call you never\\r\\nSeem to be home Hello from the outside (outside)\\r\\nAt least I can say that I\\'ve tried (I\\'ve tried)\\r\\nTo tell you I\\'m sorry\\r\\nFor breaking your heart\\r\\nBut it don\\'t matter, it clearly\\r\\nDoesn\\'t tear you apart anymore Oh, anymore\\r\\nOh, anymore\\r\\nOh, anymore\\r\\nAnymore Hello from the other side (other side)\\r\\nI must\\'ve called a thousand times (thousand times)\\r\\nTo tell you I\\'m sorry\\r\\nFor everything that I\\'ve done\\r\\nBut when I call you never\\r\\nSeem to be home Hello from the outside (outside)\\r\\nAt least I can say that I\\'ve tried (I\\'ve tried)\\r\\nTo tell you I\\'m sorry\\r\\nFor breaking your heart\\r\\nBut it don\\'t matter, it clearly\\r\\nDoesn\\'t tear you apart anymore I will leave my heart at the door\\r\\nI won\\'t say a word\\r\\nThey\\'ve all been said before you know\\r\\nSo why don\\'t we just play pretend\\r\\nLike we\\'re not scared of what\\'s coming next\\r\\nOr scared of having nothing left Look, don\\'t get me wrong\\r\\nI know there is no tomorrow\\r\\nAll I ask is If this is my last night with you\\r\\nHold me like I\\'m more than just a friend\\r\\nGive me a memory I can use\\r\\nTake me by the hand while we do what lovers do\\r\\nIt matters how this ends\\r\\n\\'Cause what if I never love again? I don\\'t need your honesty\\r\\nIt\\'s already in your eyes\\r\\nAnd I\\'m sure my eyes, they speak for me\\r\\nNo one knows me like you do\\r\\nAnd since you\\'re the only one that matters\\r\\nTell me who do I run to? Look, don\\'t get me wrong\\r\\nI know there is no tomorrow\\r\\nAll I ask is If this is my last night with you\\r\\nHold me like I\\'m more than just a friend\\r\\nGive me a memory I can use\\r\\nTake me by the hand while we do what lovers do\\r\\nIt matters how this ends\\r\\n\\'Cause what if I never love again? Let this be our lesson in love\\r\\nLet this be the way we remember us\\r\\nI don\\'t wanna be cruel or vicious\\r\\nAnd I ain\\'t asking for forgiveness\\r\\nAll I ask is If this is my last night with you\\r\\nHold me like I\\'m more than just a friend\\r\\nGive me a memory I can use\\r\\nTake me by the hand while we do what lovers do\\r\\nIt matters how this ends\\r\\n\\'Cause what if I never love again? I let it fall, my heart,\\r\\nAnd as it fell you rose to claim it\\r\\nIt was dark and I was over\\r\\nUntil you kissed my lips and you saved me My hands, they\\'re strong\\r\\nBut my knees were far too weak\\r\\nTo stand in your arms\\r\\nWithout falling to your feet But there\\'s a side to you that I never knew, never knew\\r\\nAll the things you\\'d say, they were never true, never true\\r\\nAnd the games you\\'d play, you would always win, always win But I set fire to the rain\\r\\nWatched it pour as I touched your face\\r\\nLet it burn while I cry\\r\\n\\'Cause I heard it screaming out your name, your name When laying with you\\r\\nI could stay there, close my eyes\\r\\nFeel you here, forever\\r\\nYou and me together, nothing gets better Cause there\\'s a side to you that I never knew, never knew\\r\\nAll the things you\\'d say, they were never true, never true\\r\\nAnd the games you\\'d play, you would always win, always win But I set fire to the rain\\r\\nWatched it pour as I touched your face\\r\\nLet it burn while I cried\\r\\n\\'Cause I heard it screaming out your name, your name I set fire to the rain\\r\\nAnd I threw us into the flames\\r\\nWhere I felt something die, \\'cause I knew that\\r\\nThat was the last time, the last time Sometimes I wake up by the door\\r\\nAs if that heart you caught is still waiting for you\\r\\nEven now when it\\'s already over\\r\\nI can\\'t help myself from looking for you I set fire to the rain\\r\\nWatched it pour as I touched your face\\r\\nLet it burn while I cried\\r\\n\\'Cause I heard it screaming out your name, your name I set fire to the rain\\r\\nAnd I threw us into the flames\\r\\nWhere I felt something die\\r\\n\\'Cause I knew that that was the last time, the last time, oh\\r\\nOh, oh Let it burn, oh\\r\\nLet it burn\\r\\nLet it burn Everybody loves the things you do\\r\\nFrom the way you talk\\r\\nTo the way you move\\r\\nEverybody here is watching you\\r\\n\\'Cause you feel like home\\r\\nYou\\'re like a dream come true\\r\\nBut if by chance you\\'re here alone\\r\\nCan I have a moment\\r\\nBefore I go?\\r\\n\\'Cause I\\'ve been by myself all night long\\r\\nHoping you\\'re someone I used to know You look like a movie\\r\\nYou sound like a song\\r\\nMy God, this reminds me\\r\\nOf when we were young Let me photograph you in this light\\r\\nIn case it is the last time\\r\\nThat we might be exactly like we were\\r\\nBefore we realized\\r\\nWe were sad of getting old\\r\\nIt made us restless\\r\\nIt was just like a movie\\r\\nIt was just like a song I was so scared to face my fears\\r\\nNobody told me that you\\'d be here\\r\\nAnd I swore you moved overseas\\r\\nThat\\'s what you said, when you left me You still look like a movie\\r\\nYou still sound like a song\\r\\nMy God, this reminds me\\r\\nOf when we were young Let me photograph you in this light\\r\\nIn case it is the last time\\r\\nThat we might be exactly like we were\\r\\nBefore we realized\\r\\nWe were sad of getting old\\r\\nIt made us restless\\r\\nIt was just like a movie\\r\\nIt was just like a song When we were young\\r\\nWhen we were young\\r\\nWhen we were young\\r\\nWhen we were young It\\'s hard to win me back\\r\\nEverything just takes me back\\r\\nTo when you were there\\r\\nTo when you were there\\r\\nAnd a part of me keeps holding on\\r\\nJust in case it hasn\\'t gone\\r\\nI guess I still care\\r\\nDo you still care? It was just like a movie\\r\\nIt was just like a song\\r\\nMy God, this reminds me\\r\\nOf when we were young When we were young\\r\\nWhen we were young\\r\\nWhen we were young\\r\\nWhen we were young Let me photograph you in this light\\r\\nIn case it is the last time\\r\\nThat we might be exactly like we were\\r\\nBefore we realized\\r\\nWe were sad of getting old\\r\\nIt made us restless\\r\\nOh, I\\'m so mad I\\'m getting old\\r\\nIt makes me reckless\\r\\nIt was just like a movie\\r\\nIt was just like a song\\r\\nWhen we were young Whenever I\\'m alone with you\\r\\nYou make me feel like I am home again\\r\\nWhenever I\\'m alone with you\\r\\nYou make me feel like I am whole again Whenever I\\'m alone with you\\r\\nYou make me feel like I am young again\\r\\nWhenever I\\'m alone with you\\r\\nYou make me feel like I am fun again However far away I will always love you\\r\\nHowever long I stay I will always love you\\r\\nWhatever words I say I will always love you\\r\\nI will always love you Whenever I\\'m alone with you\\r\\nYou make me feel like I am free again\\r\\nWhenever I\\'m alone with you\\r\\nYou make me feel like I am clean again However far away I will always love you\\r\\nHowever long I stay I will always love you\\r\\nWhatever words I say I will always love you\\r\\nI will always love you However far away I will always love you\\r\\nHowever long I stay I will always love you\\r\\nWhatever words I say I will always love you\\r\\nI will always love you\\r\\nI will always love you\\r\\n\\'Cause I love you When the rain is blowing in your face\\r\\nAnd the whole world is on your case\\r\\nI could offer you a warm embrace\\r\\nTo make you feel my love When the evening shadows and the stars appear\\r\\nAnd there is no one there to dry your tears\\r\\nI could hold you for a million years\\r\\nTo make you feel my love I know you haven\\'t made your mind up yet\\r\\nBut I would never do you wrong\\r\\nI\\'ve known it from the moment that we met\\r\\nno doubt in my mind were you belong I\\'d go hungry, I\\'d go black and blue\\r\\nI\\'d go crawling down the avenue\\r\\nNo, there\\'s nothing that I wouldn\\'t do\\r\\nTo make you feel my love The storms are raging on the rolling sea\\r\\nAnd on the highway of regret\\r\\nThe winds of change are blowing wild and free\\r\\nYou ain\\'t seen nothing like me yet I could make you happy, make your dreams come true\\r\\nNothing that I wouldn\\'t do\\r\\nGo to the ends of the Earth for you\\r\\nTo make you feel my love To make you feel my love I\\'ve made up my mind\\r\\nDon\\'t need to think it over\\r\\nIf I\\'m wrong I am right\\r\\nDon\\'t need to look no further\\r\\nThis ain\\'t lust\\r\\nI know this is love but If I tell the world\\r\\nI\\'ll never say enough\\r\\nCause it was not said to you\\r\\nAnd that\\'s exactly what I need to do\\r\\nIf I\\'m in love with you Should I give up\\r\\nOr should I just keep chasing pavements?\\r\\nEven if it leads nowhere\\r\\nOr would it be a waste?\\r\\nEven If I knew my place should I leave it there?\\r\\nShould I give up\\r\\nOr should I just keep chasing pavements?\\r\\nEven if it leads nowhere I\\'d build myself up\\r\\nAnd fly around in circles\\r\\nWaiting as my heart drops\\r\\nAnd my back begins to tingle\\r\\nFinally could this be it or Should I give up\\r\\nOr should I just keep chasing pavements?\\r\\nEven if it leads nowhere\\r\\nOr would it be a waste?\\r\\nEven if I knew my place should I leave it there?\\r\\nShould I give up\\r\\nOr should I just keep chasing pavements?\\r\\nEven if it leads nowhere yeah Should I give up\\r\\nOr should I just keep chasing pavements?\\r\\nEven if, it leads nowhere\\r\\nOr would it be a waste?\\r\\nEven if I knew my place should I leave it there?\\r\\nShould I give up,\\r\\nOr should I just keep on chasing pavements?\\r\\nShould I just keep on chasing pavements? Or Should I give up\\r\\nOr should I just keep chasing pavements?\\r\\nEven if it leads nowhere\\r\\nOr would it be a waste?\\r\\nEven if I knew my place should I leave it there?\\r\\nShould I give up\\r\\nOr should I just keep chasing pavements?\\r\\nEven if it leads nowhere When will I see you again?\\r\\nYou left with no goodbye, not a single word was said\\r\\nNo final kiss to seal anything\\r\\nI had no idea of the state we were in I know I have a fickle heart and a bitterness\\r\\nAnd a wandering eye, and a heaviness in my head\\r\\nBut don\\'t you remember, don\\'t you remember?\\r\\nThe reason you loved me before,\\r\\nBaby please remember me once more When was the last time you thought of me?\\r\\nOr have you completely erased me from your memories?\\r\\nI often think about where I went wrong\\r\\nThe more I do, the less I know But I know I have a fickle heart and a bitterness\\r\\nAnd a wandering eye, and a heaviness in my head\\r\\nBut don\\'t you remember, don\\'t you remember?\\r\\nThe reason you loved me before\\r\\nBaby please remember me once more Oh, I gave you the space so you could breathe\\r\\nI kept my distance so you would be free\\r\\nIn hope that you find the missing piece\\r\\nTo bring you back to me Why don\\'t you remember, don\\'t you remember?\\r\\nThe reason you loved me before\\r\\nBaby please remember me once more\\r\\nWhen will I see you again? She, she ain\\'t real\\r\\nShe ain\\'t gonna be able to love you like I will\\r\\nShe is a stranger\\r\\nYou and I have history\\r\\nOr don\\'t you remember\\r\\nSure, she\\'s got it all\\r\\nBut, baby, is that really what you want Bless your soul, you\\'ve got you\\'re head in the clouds\\r\\nYou made a fool out of you\\r\\nAnd, boy, she\\'s bringing you down\\r\\nShe made your heart melt\\r\\nBut you\\'re cold to the core\\r\\nNow rumor has it she ain\\'t got your love anymore Rumor has it, ooh\\r\\nRumor has it, ooh\\r\\nRumor has it, ooh\\r\\nRumor has it, ooh\\r\\nRumor has it, ooh\\r\\nRumor has it, ooh\\r\\nRumor has it, ooh\\r\\nRumor has it, ooh She is half your age\\r\\nBut I\\'m guessing that\\'s the reason that you stayed\\r\\nI heard you\\'ve been missing me\\r\\nYou\\'ve been telling people things that you shouldn\\'t be\\r\\nLike when we creep out and she ain\\'t around\\r\\nHaven\\'t you heard the rumors Bless your soul, you\\'ve got your head in the clouds\\r\\nYou made a fool out of me\\r\\nAnd, boy, you\\'re bringing me down\\r\\nYou made my heart melt, yet I\\'m cold to the core\\r\\nBut rumor has it I\\'m the one you\\'re leaving her for Rumor has it, ooh\\r\\nRumor has it, ooh\\r\\nRumor has it, ooh\\r\\nRumor has it, ooh\\r\\nRumor has it, ooh\\r\\nRumor has it, ooh\\r\\nRumor has it, ooh\\r\\nRumor has it, ooh All of these words whispered in my ear\\r\\nTell a story that I cannot bear to hear\\r\\nJust \\'cause I said it, it don\\'t mean that I meant it\\r\\nPeople say crazy things\\r\\nJust \\'cause I said it, don\\'t mean that I meant it\\r\\nJust \\'cause you heard it Rumor has it, ooh,\\r\\nRumor has it, ooh,\\r\\nRumor has it, ooh,\\r\\nRumor has it, ooh,\\r\\nRumor has it, ooh,\\r\\nRumor has it, ooh,\\r\\nRumor has it, ooh,\\r\\nRumor has it, ooh,\\r\\nRumor has it, ooh,\\r\\nRumor has it, ooh,\\r\\nRumor has it, ooh,\\r\\nRumor has it, ooh,\\r\\nRumor has it, ooh,\\r\\nRumor has it, ooh But rumor has it he\\'s the one I\\'m leaving you for You\\'ve been on my mind\\r\\nI grow fonder every day\\r\\nLose myself in time\\r\\nJust thinking of your face\\r\\nGod only knows why it\\'s taken me\\r\\nSo long to let my doubts go\\r\\nYou\\'re the only one that I want I don\\'t know why I\\'m scared\\r\\nI\\'ve been here before\\r\\nEvery feeling, every word\\r\\nI\\'ve imagined it all\\r\\nYou\\'ll never know if you never try\\r\\nTo forget your past and simply be mine I dare you to let me be your, your one and only\\r\\nI promise I\\'m worthy\\r\\nTo hold in your arms\\r\\nSo come on and give me the chance\\r\\nTo prove I am the one who can walk that mile\\r\\nUntil the end starts If I\\'ve been on your mind\\r\\nYou hang on every word I say\\r\\nLose yourself in time\\r\\nAt the mention of my name\\r\\nWill I ever know how it feels to hold you close\\r\\nAnd have you tell me\\r\\nWhichever road I choose, you\\'ll go? I don\\'t know why I\\'m scared\\r\\n\\'Cause I\\'ve been here before\\r\\nEvery feeling, every word\\r\\nI\\'ve imagined it all\\r\\nYou\\'ll never know if you never try\\r\\nTo forget your past and simply be mine I dare you to let me be your, your one and only\\r\\nI promise I\\'m worthy, mm\\r\\nTo hold in your arms\\r\\nSo come on and give me the chance\\r\\nTo prove I am the one who can walk that mile\\r\\nUntil the end starts I know it ain\\'t easy giving up your heart\\r\\nI know it ain\\'t easy giving up your heart\\r\\nNobody\\'s perfect\\r\\n(I know it ain\\'t easy giving up your heart)\\r\\nTrust me I\\'ve learned it\\r\\nNobody\\'s perfect\\r\\n(I know it ain\\'t easy giving up your heart)\\r\\nTrust me I\\'ve learned it\\r\\nNobody\\'s perfect\\r\\n(I know it ain\\'t easy giving up your heart)\\r\\nTrust me I\\'ve learned it\\r\\nNobody\\'s perfect\\r\\n(I know it ain\\'t easy giving up your heart)\\r\\nTrust me I\\'ve learned it So I dare you to let me be your, your one and only\\r\\nI promise I\\'m worthy\\r\\nTo hold in your arms\\r\\nSo come on and give me the chance\\r\\nTo prove that I am the, one who can walk that mile\\r\\nUntil the end starts Come on and give me the chance\\r\\nTo prove that I am the one who can, walk that mile\\r\\nUntil the end starts If you\\'re not the one for me\\r\\nThen I\\'ll come back and bring you to your knees\\r\\nIf you\\'re not the one for me\\r\\nWhy do I hate the idea of being free?\\r\\nAnd if I\\'m not the one for you\\r\\nYou\\'ve gotta stop holding me the way you do\\r\\nOh when you found that the one for you\\r\\nWhy have we been through what we have been through It\\'s so cold out here in your wilderness\\r\\nI want you to be my keeper\\r\\nBut not if you are so reckless If you\\'re gonna let me down, let me down gently\\r\\nDon\\'t pretend that you don\\'t want me\\r\\nOur love ain\\'t water under the bridge\\r\\nIf you\\'re gonna let me down, let me down gently\\r\\nDon\\'t pretend that you don\\'t want me\\r\\nOur love ain\\'t water under the bridge\\r\\nSay that our love ain\\'t water under the bridge What are you waiting for?\\r\\nYou never seem to make it through the door\\r\\nAnd who are you hiding from?\\r\\nIt ain\\'t no life to live like you\\'re on the run\\r\\nHave I ever asked for much?\\r\\nThe only thing that I want is your love If you\\'re gonna let me down, let me down gently\\r\\nDon\\'t pretend that you don\\'t want me\\r\\nOur love ain\\'t water under the bridge\\r\\nIf you\\'re gonna let me down, let me down gently\\r\\nDon\\'t pretend that you don\\'t want me\\r\\nOur love ain\\'t water under the bridge\\r\\nSay that our love ain\\'t water under the bridge It\\'s so cold in your wilderness\\r\\nI want you to be my keeper\\r\\nBut not if you are so reckless If you\\'re gonna let me down, let me down gently\\r\\nDon\\'t pretend that you don\\'t want me\\r\\nOur love ain\\'t water under the bridge\\r\\nIf you\\'re gonna let me down, let me down gently\\r\\nDon\\'t pretend that you don\\'t want me\\r\\nOur love ain\\'t water under the bridge Say it ain\\'t so, say it ain\\'t so\\r\\nSay it ain\\'t so, say it ain\\'t so\\r\\nSay it ain\\'t so, say it ain\\'t so\\r\\nSay it ain\\'t so, say it ain\\'t so\\r\\nSay it ain\\'t so, say it ain\\'t so\\r\\nSay it ain\\'t so, say it ain\\'t so\\r\\nSay it ain\\'t so, say it ain\\'t so\\r\\nSay it ain\\'t so, say it ain\\'t so\\r\\nSay that our love ain\\'t water under the bridge I\\'ve been walking in the same way as I did\\r\\nMissing out the cracks in the pavement\\r\\nAnd turning my heel and strutting my feet\\r\\n\"Is there anything I can do for you dear?\\r\\nIs there anyone I could call?\"\\r\\n\"No and thank you, please Madam.\\r\\nI ain\\'t lost, just wandering\" Round my hometown\\r\\nMemories are fresh\\r\\nRound my hometown\\r\\nOoh the people I\\'ve met\\r\\nAre the wonders of my world\\r\\nAre the wonders of my world\\r\\nAre the wonders of this world\\r\\nAre the wonders of now I like it in the city when the air is so thick and opaque\\r\\nI love to see everybody in short skirts, shorts and shades\\r\\nI like it in the city when two worlds collide\\r\\nYou get the people and the government\\r\\nEverybody taking different sides Shows that we ain\\'t gonna stand shit\\r\\nShows that we are united\\r\\nShows that we ain\\'t gonna take it\\r\\nShows that we ain\\'t gonna stand shit\\r\\nShows that we are united Round my hometown\\r\\nMemories are fresh\\r\\nRound my hometown\\r\\nOoh the people I\\'ve met yea Are the wonders of my world\\r\\nAre the wonders of my world\\r\\nAre the wonders of this world\\r\\nAre the wonders of my world\\r\\nOf my world, yeah\\r\\nOf my world\\r\\nOf my world, yeah Close enough to start a war\\r\\nAll that I have is on the floor\\r\\nGod only knows what we\\'re fighting for\\r\\nAll that I say, you always say more I can\\'t keep up with your turning tables\\r\\nUnder your thumb, I can\\'t breathe So I won\\'t let you close enough to hurt me\\r\\nNo, I won\\'t ask you, you to just desert me\\r\\nI can\\'t give you what you think you gave me\\r\\nIt\\'s time to say goodbye to turning tables, to turning tables Under haunted skies I see\\r\\nWhere love is lost, your ghost is found\\r\\nI\\'ve braved a hundred storms to leave you\\r\\nAs hard as you try, no, I will never be knocked down I can\\'t keep up with your turning tables\\r\\nUnder your thumb, I can\\'t breathe So I won\\'t let you close enough to hurt me, no\\r\\nI won\\'t ask you, you to just desert me\\r\\nI can\\'t give you what you think you gave me\\r\\nIt\\'s time to say goodbye to turning tables, turning tables Next time I\\'ll be braver, I\\'ll be my own savior\\r\\nWhen the thunder calls to me\\r\\nNext time I\\'ll be braver, I\\'ll be my own savior\\r\\nStanding on my own two feet I won\\'t let you close enough to hurt me, no\\r\\nI won\\'t ask you, you to just desert me\\r\\nI can\\'t give you what you think you gave me\\r\\nIt\\'s time to say goodbye to turning tables, to turning tables\\r\\nTurning tables, yeah, turning This is the end\\r\\nHold your breath and count to ten\\r\\nFeel the earth move and then\\r\\nHear my heart burst again For this is the end\\r\\nI\\'ve drowned and dreamt this moment\\r\\nSo overdue I owe them\\r\\nSwept away, I\\'m stolen Let the sky fall\\r\\nWhen it crumbles\\r\\nWe will stand tall\\r\\nFace it all together Let the sky fall\\r\\nWhen it crumbles\\r\\nWe will stand tall\\r\\nFace it all together\\r\\nAt skyfall\\r\\nAt skyfall Skyfall is where we start\\r\\nA thousand miles and poles apart\\r\\nWhere worlds collide and days are dark\\r\\nYou may have my number, you can take my name\\r\\nBut you\\'ll never have my heart Let the sky fall\\r\\nWhen it crumbles\\r\\nWe will stand tall\\r\\nFace it all together Let the sky fall\\r\\nWhen it crumbles\\r\\nWe will stand tall\\r\\nFace it all together\\r\\nAt skyfall Where you go I go\\r\\nWhat you see I see\\r\\nI know I\\'d never be me\\r\\nWithout the security\\r\\nOf your loving arms\\r\\nKeeping me from harm\\r\\nPut your hand in my hand\\r\\nAnd we\\'ll stand Let the sky fall\\r\\nWhen it crumbles\\r\\nWe will stand tall\\r\\nFace it all together Let the sky fall\\r\\nWhen it crumbles\\r\\nWe will stand tall\\r\\nFace it all together\\r\\nAt skyfall Let the sky fall\\r\\nWe will stand tall\\r\\nAt skyfall Just the guitar This was all you, none of it me\\r\\nYou put your hands all over my body and told me, umm\\r\\nYou told me you were ready\\r\\nFor the big one, for the big jump\\r\\nI\\'d be your last love everlasting you and me\\r\\nThat was what you told me I\\'m giving you up\\r\\nI\\'ve forgiven it all\\r\\nYou set me free, oh Send my love to your new lover\\r\\nTreat her better\\r\\nWe\\'ve gotta let go of all of our ghosts\\r\\nWe both know we ain\\'t kids no more\\r\\nSend my love to your new lover\\r\\nTreat her better\\r\\nWe\\'ve gotta let go of all of our ghosts\\r\\nWe both know we ain\\'t kids no more I was too strong you were trembling\\r\\nYou couldn\\'t handle the hot heat rising (rising), umm\\r\\nBaby I\\'m so rising\\r\\nI was running, you were walking\\r\\nYou couldn\\'t keep up, you were falling down (down), umm\\r\\nThere\\'s only one way down I\\'m giving you up\\r\\nI\\'ve forgiven it all\\r\\nYou set me free, oh Send my love to your new lover\\r\\nTreat her better\\r\\nWe gotta let go of all of our ghosts\\r\\nWe\\'ve both know we ain\\'t kids no more\\r\\nSend my love to your new lover\\r\\nTreat her better\\r\\nWe\\'ve gotta let go of all of our ghosts\\r\\nWe both know we ain\\'t kids no more If you\\'re ready, if you\\'re ready\\r\\nIf you\\'re ready, I am ready\\r\\nIf you\\'re ready, if you\\'re ready\\r\\nWe both know we ain\\'t kids no more\\r\\nNo, we ain\\'t kids no more I\\'m giving you up\\r\\nI\\'ve forgiven it all\\r\\nYou set me free Send my love to your new lover\\r\\nTreat her better\\r\\nWe\\'ve gotta let go of all of our ghosts\\r\\nWe both know we ain\\'t kids no more\\r\\nSend my love to your new lover\\r\\nTreat her better\\r\\nWe\\'ve gotta let go of all of our ghosts\\r\\nWe both know we ain\\'t kids no more If you\\'re ready, if you\\'re ready (Send my love to your new lover)\\r\\nIf you\\'re ready, are you ready? (Treat her better)\\r\\nWe\\'ve gotta let go of all of our ghosts\\r\\nWe both know we ain\\'t kids no more\\r\\nIf you\\'re ready, if you\\'re ready (Send my love to your new lover)\\r\\nIf you\\'re ready, are you ready? (Treat her better)\\r\\nWe\\'ve gotta let go of all of our ghosts\\r\\nWe both know we ain\\'t kids no more Just the guitar This was all you, none of it me\\r\\nYou put your hands all over my body and told me, umm\\r\\nYou told me you were ready\\r\\nFor the big one, for the big jump\\r\\nI\\'d be your last love everlasting you and me\\r\\nThat was what you told me I\\'m giving you up\\r\\nI\\'ve forgiven it all\\r\\nYou set me free, oh Send my love to your new lover\\r\\nTreat her better\\r\\nWe\\'ve gotta let go of all of our ghosts\\r\\nWe both know we ain\\'t kids no more\\r\\nSend my love to your new lover\\r\\nTreat her better\\r\\nWe\\'ve gotta let go of all of our ghosts\\r\\nWe both know we ain\\'t kids no more I was too strong you were trembling\\r\\nYou couldn\\'t handle the hot heat rising (rising), umm\\r\\nBaby I\\'m so rising\\r\\nI was running, you were walking\\r\\nYou couldn\\'t keep up, you were falling down (down), umm\\r\\nThere\\'s only one way down I\\'m giving you up\\r\\nI\\'ve forgiven it all\\r\\nYou set me free, oh Send my love to your new lover\\r\\nTreat her better\\r\\nWe gotta let go of all of our ghosts\\r\\nWe\\'ve both know we ain\\'t kids no more\\r\\nSend my love to your new lover\\r\\nTreat her better\\r\\nWe\\'ve gotta let go of all of our ghosts\\r\\nWe both know we ain\\'t kids no more If you\\'re ready, if you\\'re ready\\r\\nIf you\\'re ready, I am ready\\r\\nIf you\\'re ready, if you\\'re ready\\r\\nWe both know we ain\\'t kids no more\\r\\nNo, we ain\\'t kids no more I\\'m giving you up\\r\\nI\\'ve forgiven it all\\r\\nYou set me free Send my love to your new lover\\r\\nTreat her better\\r\\nWe\\'ve gotta let go of all of our ghosts\\r\\nWe both know we ain\\'t kids no more\\r\\nSend my love to your new lover\\r\\nTreat her better\\r\\nWe\\'ve gotta let go of all of our ghosts\\r\\nWe both know we ain\\'t kids no more If you\\'re ready, if you\\'re ready (Send my love to your new lover)\\r\\nIf you\\'re ready, are you ready? (Treat her better)\\r\\nWe\\'ve gotta let go of all of our ghosts\\r\\nWe both know we ain\\'t kids no more\\r\\nIf you\\'re ready, if you\\'re ready (Send my love to your new lover)\\r\\nIf you\\'re ready, are you ready? (Treat her better)\\r\\nWe\\'ve gotta let go of all of our ghosts\\r\\nWe both know we ain\\'t kids no more I only wanted to have fun\\r\\nLearning to fly, learning to run\\r\\nI let my heart decide the way\\r\\nWhen I was young\\r\\nDeep down I must have always known\\r\\nThat this would be inevitable\\r\\nTo earn my stripes I\\'d have to pay\\r\\nAnd bear my soul I know I\\'m not the only one\\r\\nWho regrets the things they\\'ve done\\r\\nSometimes I just feel it\\'s only me\\r\\nWho can\\'t stand the reflection that they see\\r\\nI wish I could live a little more\\r\\nLook up to the sky, not just the floor\\r\\nI feel like my life is flashing by\\r\\nAnd all I can do is watch and cry\\r\\nI miss the air, I miss my friends\\r\\nI miss my mother, I miss it when\\r\\nLife was a party to be thrown\\r\\nBut that was a million years ago When I walk around all of the streets\\r\\nWhere I grew up and found my feet\\r\\nThey can\\'t look me in the eye\\r\\nIt\\'s like they\\'re scared of me\\r\\nI try to think of things to say\\r\\nLike a joke or a memory\\r\\nBut they don\\'t recognize me now\\r\\nIn the light of day I know I\\'m not the only one\\r\\nWho regrets the things they\\'ve done\\r\\nSometimes I just feel it\\'s only me\\r\\nWho never became who they thought they\\'d be\\r\\nI wish I could live a little more\\r\\nLook up to the sky, not just the floor\\r\\nI feel like my life is flashing by\\r\\nAnd all I can do is watch and cry\\r\\nI miss the air, I miss my friends\\r\\nI miss my mother, I miss it when\\r\\nLife was a party to be thrown\\r\\nBut that was a million years ago\\r\\nA million years ago Looking for some education\\r\\nMade my way into the night\\r\\nAll that bullshit conversation\\r\\nBaby, can\\'t you read the signs? I won\\'t bore you with the details, baby\\r\\nI don\\'t even wanna waste your time\\r\\nLet\\'s just say that maybe\\r\\nYou could help me ease my mind\\r\\nI ain\\'t Mr. Right But if you\\'re looking for fast love\\r\\nIf that\\'s love in your eyes\\r\\nIt\\'s more than enough\\r\\nHad some bad love\\r\\nSo fast love is all that I\\'ve got on my mind Ooh, ooh\\r\\nOoh, ooh Looking for some affirmation\\r\\nMade my way into the sun\\r\\nMy friends got their ladies\\r\\nAnd they\\'re all having babies\\r\\nI just wanna have some fun I won\\'t bore you with the details, baby\\r\\nI don\\'t even wanna waste your time\\r\\nLet\\'s just say that maybe\\r\\nYou could help me ease my mind\\r\\nI ain\\'t Mr. Right But if you\\'re looking for fast love\\r\\nIf that\\'s love in your eyes\\r\\nIt\\'s more than enough\\r\\nI\\'ve had some bad love\\r\\nSo fast love is all that I\\'ve got on my mind Ooh, ooh\\r\\nBaby, baby\\r\\nOoh, ooh\\r\\nBaby, baby\\r\\nOoh, ooh\\r\\nBaby, baby\\r\\nOoh In the absence of security\\r\\nI made my way into the night\\r\\nStupid cupid keeps on calling me\\r\\nAnd I see nothing in his eyes\\r\\nI miss my baby\\r\\nOh I, I miss my baby\\r\\nI miss my baby\\r\\nI miss, I miss, I miss, I miss my baby\\r\\nOoh I, I miss my baby Take your eyes off of me so I can leave\\r\\nI\\'m far too ashamed to do it with you watching me\\r\\nThis is never ending, we have been here before\\r\\nBut I can\\'t stay this time \\'cause I don\\'t love you anymore\\r\\nPlease stay where you are\\r\\nDon\\'t come any closer\\r\\nDon\\'t try to change my mind\\r\\nI\\'m being cruel to be kind I can\\'t love you in the dark\\r\\nIt feels like we\\'re oceans apart\\r\\nThere is so much space between us\\r\\nMaybe we\\'re already defeated\\r\\nAh-yeah-yeah-yeah-yeah-yeah-yeah everything changed me You have given me something that I can\\'t live without\\r\\nYou mustn\\'t underestimate that when you are in doubt\\r\\nBut I don\\'t want to carry on like everything is fine\\r\\nThe longer we ignore it all the more that we will fight\\r\\nPlease don\\'t fall apart\\r\\nI can\\'t face your breaking heart\\r\\nI\\'m trying to be brave\\r\\nStop asking me to stay I can\\'t love you in the dark\\r\\nIt feels like we\\'re oceans apart\\r\\nThere is so much space between us\\r\\nMaybe we\\'re already defeated\\r\\nAh-yeah-yeah-yeah-yeah-yeah-yeah everything changed me We\\'re not the only ones\\r\\nI don\\'t regret a thing\\r\\nEvery word I\\'ve said\\r\\nYou know I\\'ll always mean\\r\\nIt is the world to me\\r\\nThat you are in my life\\r\\nBut I want to live\\r\\nAnd not just survive That\\'s why I can\\'t love you in the dark\\r\\nIt feels like we\\'re oceans apart\\r\\nThere is so much space between us\\r\\nMaybe we\\'re already defeated\\r\\n\\'Cause ah-yeah-yeah-yeah-yeah-yeah-yeah everything changed me\\r\\nAnd I-I-I-I-I don\\'t think you can save me I want every single piece of you\\r\\nI want your heaven and your ocean\\'s too\\r\\nTreat me soft but touch me cool\\r\\nI wanna teach you things you never knew, baby\\r\\nBring the floor up to my knees\\r\\nLet me fall into your gravity\\r\\nAnd kiss me back to life to see\\r\\nYour body standing over me Baby don\\'t let the lights go down\\r\\nBaby don\\'t let the lights go down\\r\\nBaby don\\'t let the lights go down\\r\\nLights go down, lights go down\\r\\nLights go down, lights go down\\r\\nDown, down, down, down I miss you when the lights go out\\r\\nIt illuminates all of my doubts\\r\\nPull me in, hold me tight\\r\\nDon\\'t let go, baby give me light\\r\\nI miss you when the lights go out\\r\\nIt illuminates all of my doubts\\r\\nPull me in, hold me tight\\r\\nDon\\'t let go, baby give me light I love the way your body moves\\r\\nTowards me from across the room\\r\\nBrushing past my every groove\\r\\nNo one has me like you do\\r\\nIn your heart I bring my soul\\r\\nBut be delicate with my ego\\r\\nI wanna step into your great unknown\\r\\nWith you and me setting the tone Baby don\\'t let the lights go down\\r\\nBaby don\\'t let the lights go down\\r\\nBaby don\\'t let the lights go down\\r\\nLights go down, lights go down\\r\\nLights go down, lights go down\\r\\nDown, down, down, down I miss you when the lights go out\\r\\nIt illuminates all of my doubts\\r\\nPull me in, hold me tight\\r\\nDon\\'t let go, baby give me light\\r\\nI miss you when the lights go out\\r\\nIt illuminates all of my doubts\\r\\nPull me in, hold me tight\\r\\nDon\\'t let go, baby give me light We play so dirty in the dark\\r\\n\\'Cause we are living worlds apart\\r\\nIt only makes it harder baby\\r\\nIt only makes it harder baby (harder baby)\\r\\nHarder baby (harder baby), harder baby I miss you when the lights go out\\r\\nIt illuminates all of my doubts\\r\\nPull me in, hold me tight\\r\\nDon\\'t let go, baby give me light\\r\\nI miss you when the lights go out\\r\\nIt illuminates all of my doubts\\r\\nPull me in, hold me tight\\r\\nDon\\'t let go, baby give me light I miss you, I miss you\\r\\nI miss you, I miss you\\r\\nI miss you, I miss you\\r\\nI miss you, I miss you I remember all of the things that I thought I wanted to be\\r\\nSo desperate to find a way out of my world and finally breathe\\r\\nRight before my eyes I saw, my heart it came to life\\r\\nThis ain\\'t easy it\\'s not meant to be\\r\\nEvery story has its scars When the pain cuts you deep\\r\\nWhen the night keeps you from sleeping\\r\\nJust look and you will see\\r\\nThat I will be your remedy\\r\\nWhen the world seems so cruel\\r\\nAnd your heart makes you feel like a fool\\r\\nI promise you will see\\r\\nThat I will be, I will be your remedy No river is too wide or too deep for me to swim to you\\r\\nCome whenever I\\'ll be the shelter that won\\'t let the rain come through\\r\\nYour love, it is my truth\\r\\nAnd I will always love you\\r\\nLove you When the pain cuts you deep\\r\\nWhen the night keeps you from sleeping\\r\\nJust look and you will see\\r\\nThat I will be your remedy\\r\\nWhen the world seems so cruel\\r\\nAnd your heart makes you feel like a fool\\r\\nI promise you will see\\r\\nThat I will be, I will be your remedy, oh When the pain cuts you deep\\r\\nWhen the night keeps you from sleeping\\r\\nJust look and you will see\\r\\nI will be, I will be\\r\\nWhen the world seems so cruel\\r\\nAnd your heart makes you feel like a fool\\r\\nI promise you will see\\r\\nThat I will be, I will be, I will be\\r\\nYour remedy, oh Didn\\'t I give it all?\\r\\nTried my best\\r\\nGave you everything I had, everything and no less\\r\\nDidn\\'t I do it right? Did I let you down?\\r\\nMaybe you got too used to having me \\'round\\r\\nStill how can you walk away\\r\\nFrom all my tears\\r\\nIt\\'s gonna be an empty road without me right here\\r\\nBut go on and take it, take it all with you\\r\\nDon\\'t look back at this crumbling fool\\r\\nJust take it all with my love, take it all with my love Maybe I should leave, to help you see\\r\\nNothing is better than this and this is everything we need\\r\\nSo is it over? Is this really it, you\\'re giving up so easily\\r\\nI thought you loved me more than this But go on, go on, take it, take it all with you\\r\\nDon\\'t look back at this crumbling fool\\r\\nJust take it all with my love, take it all with my love I will change if I must\\r\\nSlow it down and bring it home, I will adjust\\r\\nOh if only, if only you knew\\r\\nEverything I do, is for you But go on and take it, take it all with you\\r\\nDon\\'t look back at this crumbling fool\\r\\nJust take it, take it all with you\\r\\nDon\\'t look back at this crumbling fool\\r\\nJust take it all, with my love\\r\\nTake it all with my love\\r\\nTake it all with my love This is how the story went\\r\\nI met someone by accident\\r\\nIt blew me away\\r\\nBlew me away It was in the darkest of my days\\r\\nWhen you took my sorrow and you took my pain\\r\\nAnd buried them away, you buried them away I wish I could lay down beside you\\r\\nWhen the day is done\\r\\nAnd wake up to your face against the morning sun\\r\\nBut like everything I\\'ve ever known\\r\\nYou disappear one day\\r\\nSo I spend my whole life hiding my heart away Dropped you off at the train station\\r\\nPut a kiss on top of your head\\r\\nWatch you wave\\r\\nAnd watched you wave Then I went on home to my skyscrapers\\r\\nAnd neon lights and waiting papers\\r\\nThat I call home\\r\\nI call that home I wish I could lay down beside you\\r\\nWhen the day is done\\r\\nAnd wake up to your face against the morning sun\\r\\nBut like everything I\\'ve ever known\\r\\nYou disappear one day\\r\\nSo I spend my whole life hiding my heart away, away Woke up feeling heavy-hearted\\r\\nI\\'m going back to where I started\\r\\nThe morning rain, the morning rain\\r\\nAnd though I wish that you were here\\r\\nOn that same old road that brought me here\\r\\nIt\\'s calling me home, It\\'s calling me home I wish I could lay down beside you\\r\\nWhen the day is done\\r\\nAnd wake up to your face against the morning sun\\r\\nBut like everything I\\'ve ever known\\r\\nYou disappear one day\\r\\nSo I spend my whole life hiding my heart away\\r\\nI can\\'t spend my whole life hiding my heart away I don\\'t want you to be no slave\\r\\nI don\\'t want you to work all day\\r\\nBut I want you to be true\\r\\nAnd I just want to make love to you\\r\\nLove to you, ooh baby\\r\\nLove to you, yeah All I want to do is wash your clothes\\r\\nI don\\'t want to keep you indoors\\r\\nThere is nothing you can\\'t do\\r\\nBut keep me making love to me\\r\\nLove to me, ooh baby\\r\\nLove to you, yeah And I can tell by the way you walk that walk\\r\\nAnd I can hear by the way you talk that talk\\r\\nAnd I can know by the way you treat your girl\\r\\nThat I can give you all the loving in the whole wide world All I want you to do is make your bread\\r\\nJust to make sure you\\'re well fed\\r\\nI don\\'t want you sad and blue\\r\\nAnd I just want to make love to you\\r\\nLove to you, ooh yeah\\r\\nLove to you, yeah And I can tell by the way you walk that walk\\r\\nAnd I can hear by the way you talk that talk\\r\\nAnd I can know by the way you treat your girl\\r\\nThat I can give you all the loving in the whole wide world All I want you to do baby is make your bread\\r\\nJust to make sure you\\'re well fed\\r\\nI don\\'t want you sad and blue\\r\\nAnd I just want to make love to you\\r\\nLove to you, ooh yeah\\r\\nLove to you, yeah\\r\\nOh I just want to make love to you Happy New Year! Turn down the lights\\r\\nTurn down the bed\\r\\nTurn down these voices\\r\\nInside my head Lay down with me\\r\\nAnd tell me no lies\\r\\nJust hold me closly\\r\\nDon\\'t patronize Don\\'t patronize me \\'Cause I can\\'t make you love me\\r\\nIf you don\\'t\\r\\nYou can\\'t make your heart feel\\r\\nSomething that it won\\'t\\r\\nAnd even in the dark\\r\\nThese final hours\\r\\nI will lay down my heart\\r\\nI will feel the power\\r\\nBut you won\\'t\\r\\nNo, you won\\'t\\r\\n\\'Cause I can\\'t make you love me\\r\\nWhen you don\\'t\\r\\nWhen you don\\'t, yeah I\\'ll close my eyes\\r\\n\\'Cause then I don\\'t see\\r\\nThe love you don\\'t feel\\r\\nWhen you\\'re holding me Morning will come\\r\\nAnd I\\'ll do what\\'s right\\r\\nJust give me till then\\r\\nTo give up this fight And I will give up this fight \\'Cause I can\\'t make you love me\\r\\nIf you don\\'t\\r\\nYou can\\'t make your heart feel\\r\\nSomething that it won\\'t\\r\\nAnd even in the dark\\r\\nThese final hours\\r\\nI will lay down my heart\\r\\nI will feel the power\\r\\nBut you won\\'t\\r\\nNo, you won\\'t\\r\\n\\'Cause I can\\'t make you love me\\r\\nWhen you don\\'t\\r\\nWhen you don\\'t, ooh don\\'t\\r\\nYou, when you don\\'t, yeah, yeah Hold me closer, one more time\\r\\nSay that you love me in your last goodbye\\r\\nPlease forgive me, for my sins\\r\\nYes, I swam dirty waters\\r\\nBut you pushed me in\\r\\nI\\'ve seen your face, under every sky\\r\\nOver every border and on every line\\r\\nYou know my heart, more than I do\\r\\nWe were the greatest, me and you But we had time against us\\r\\nAnd miles between us\\r\\nThe heavens cried\\r\\nI know I left you speechless\\r\\nBut now the sky has cleared and it\\'s blue\\r\\nAnd I see my future in you I\\'ll be waiting for you when you\\'re ready to love me again\\r\\nI\\'ll put my hands up\\r\\nI\\'ll do everything different\\r\\nI\\'ll be better to you,\\r\\nI\\'ll be waiting for you when you\\'re ready to love me again\\r\\nI\\'ll put my hands up\\r\\nI\\'ll be somebody different\\r\\nI\\'ll be better to you Let me stay here for just one more night\\r\\nBuild your world around me\\r\\nAnd pull me to the light\\r\\nSo I can tell you that I was wrong\\r\\nI was a child then, but now I\\'m willing to learn But we had time against us\\r\\nAnd miles between us\\r\\nThe heavens cried\\r\\nI know I left you speechless\\r\\nBut now the sky has cleared and it\\'s blue\\r\\nAnd I see my future in you I\\'ll be waiting for you when you\\'re ready to love me again\\r\\nI\\'ll put my hands up\\r\\nI\\'ll do everything different\\r\\nI\\'ll be better to you\\r\\nI\\'ll be waiting for you when you\\'re ready to love me again\\r\\nI\\'ll put my hands up\\r\\nI\\'ll be somebody different\\r\\nI\\'ll be better to you Time against us\\r\\nMiles between us\\r\\nHeavens cried\\r\\nI know I left you speechless\\r\\nTime against us\\r\\nMiles between us\\r\\nHeavens cried\\r\\nI know I left you speechless\\r\\nI know I left you speechless I\\'ll be waiting\\r\\nI\\'ll be waiting for you when you\\'re ready to love me again\\r\\nI\\'ll put my hands up\\r\\nI\\'ll do everything different\\r\\nI\\'ll be better to you\\r\\nI\\'ll be waiting for you when you\\'re ready to love me again\\r\\nI\\'ll put my hands up\\r\\nI\\'ll be somebody different\\r\\nI\\'ll be better for you This is the end\\r\\nHold your breath and count to ten\\r\\nFeel the Earth move, and then\\r\\nHear my heart burst again For this is the end\\r\\nI\\'ve drowned and dreamt this moment\\r\\nSo overdue, I owe them\\r\\nSwept away, I\\'m stolen Let the sky fall, when it crumbles\\r\\nWe will stand tall\\r\\nAnd face it all together\\r\\nLet the sky fall, when it crumbles\\r\\nWe will stand tall\\r\\nAnd face it all together\\r\\nAt sky fall\\r\\nat sky fall Skyfall is where we start\\r\\nA thousand miles and poles apart\\r\\nWhere worlds collide and days are dark\\r\\nYou may have my number\\r\\nYou can take my name\\r\\nBut you\\'ll never have my heart Let the sky fall, when it crumbles\\r\\nWe will stand tall\\r\\nAnd face it all together\\r\\nLet the sky fall, when it crumbles\\r\\nWe will stand tall\\r\\nAnd face it all together\\r\\nAt sky fall Let the sky fall, when it crumbles\\r\\nWe will stand tall\\r\\nLet the sky fall, when it crumbles\\r\\nWe will stand tall Where you go I go\\r\\nWhat you see I see\\r\\nI know I\\'d never be me with out the security\\r\\nOf your loving arms keeping me from harm\\r\\nPut your hand in my hand\\r\\nAnd we\\'ll stand.... Let the sky fall, when it crumbles\\r\\nWe will stand tall\\r\\nAnd face it all together\\r\\nLet the sky fall, when it crumbles\\r\\nWe will stand tall\\r\\nAnd face it all together\\r\\nAt sky fall Let the sky fall\\r\\nWe will stand tall\\r\\nAt skyfall (Verse 1)\\r\\nThere\\'s a fire starting in my heart\\r\\nReaching a fever pitch and it\\'s bringing me out the dark\\r\\nFinally I can see you crystal clear\\r\\nGo head and sell me out and I\\'ll lay your ship bare\\r\\nSee how I\\'ll leave with every piece of you\\r\\nDon\\'t underestimate the things that I will do\\r\\nThere\\'s a fire starting in my heart\\r\\nReaching a fever pitch and it\\'s bringing me out the dark Chorus 1\\r\\nThe scars of your love remind me of us\\r\\nThey keep me thinkin\\' that we almost had it all\\r\\nThe scars of your love, they leave me breathless\\r\\nI can\\'t help feeling, we could\\'ve had it all... (You\\'re gonna wish you never met me)\\r\\nRolling in the deep... (Tears are gonna fall rollin\\' in the deep)\\r\\nYou had my heart inside of your hand (You\\'re gonna wish you never met me)\\r\\nAnd you played it to the beat (Tears are gonna fall rollin\\' in the deep) Verse 2\\r\\nBaby I have no story to be told\\r\\nBut I\\'ve heard one on you and I\\'m gonna make your head burn\\r\\nThink of me in the depths of your despair\\r\\nMaking a home down there, as mine sure won\\'t be shared (Chorus 2)\\r\\nThe scars of your love remind me of us\\r\\nThey keep me thinkin\\' that we almost had it all\\r\\nThe scars of your love, they leave me breathless\\r\\nI can\\'t help feeling, we could\\'ve had it all\\r\\nRolling in the deep... you had my heart inside of your hand\\r\\nAnd you played it to the beat\\r\\nCould\\'ve had it all... Rollin\\' in the deep\\r\\nYou had my heart inside of your hand\\r\\nBut you played it with a beating (Verse 3)\\r\\nThrow your stone through every open door\\r\\nCount your blessings to find what you look for\\r\\nTurn my sorrow into treasured gold\\r\\nYou pay me back in kind and reap just what you sow (Chorus 3)\\r\\nWe could\\'ve had it all... We could\\'ve had it all...\\r\\nIt all, It all, It all... We could\\'ve had it all...\\r\\nRollin\\' in the deep...\\r\\nYou had my heart inside of your hand\\r\\nAnd you played it to the beat\\r\\nCould\\'ve had it all\\r\\nRollin\\' in the deep\\r\\nYou had my heart inside of your hand\\r\\nBut you played it, you played it, you played it, you played it to the beat Some say, I\\'ll be better without you,\\r\\nThey don\\'t know you like I do,\\r\\nOr at least as far as I thought I knew\\r\\nI can\\'t bear this time,\\r\\nIt drags, as I lose my mind\\r\\nReminded by things I find\\r\\nI know some clothes you left behind.\\r\\nWake me up, wake me up when all is done\\r\\nI won\\'t rise until this battle\\'s won\\r\\nMy dignity is become undone But I won\\'t go\\r\\nI can\\'t do it on my own\\r\\nIf this ain\\'t love, then what is?\\r\\nI\\'m willing to take the risk\\r\\nI won\\'t go, I can\\'t do it on my own,\\r\\nIf this is ain\\'t love, then what is?\\r\\nI\\'m willing to take the risk So petrified, I\\'m so scared to step into this right,\\r\\nWhat if I lose my heart and fail the ?\\r\\nI won\\'t forgive me if I gave up trying\\r\\nI heard his voice today\\r\\nI didn\\'t know a single word he said\\r\\nNow I\\'m resemblance to the man I met\\r\\nJust a vague and broken boy instead But I won\\'t go, I can\\'t do it on my own\\r\\nIf this ain\\'t love, then what is?\\r\\nI\\'m willing to take the risk\\r\\nI won\\'t go, I can\\'t do it on my own\\r\\nIf this ain\\'t love, then what is?\\r\\nI\\'m willing to take the risk There will be times, we\\'ll try and give it up\\r\\nBursting at the seams, no doubt\\r\\nWe almost fall apart and burn up easy\\r\\nSo watch them turn to dust\\r\\nBut nothing will never taint us I won\\'t go, I can\\'t do it on my own\\r\\nIf this ain\\'t love, then what is?\\r\\nI\\'m willing to take the risk\\r\\nI won\\'t go, I can\\'t do it on my own\\r\\nIf this ain\\'t love, then what is?\\r\\nI\\'m willing to take the risk Will he, will he still remember me?\\r\\nWill he still love me even when he\\'s free\\r\\nOr will he go back to the place where\\r\\nHe will choose the poison over me?\\r\\nWhen we spoke yesterday\\r\\nHe said to hold my breath, to sit and wait\\r\\nI\\'ll be home soon, I won\\'t be late He won\\'t go\\r\\nHe can\\'t do it on his own\\r\\nIf this ain\\'t love, then what is?\\r\\nHe\\'s willing to take the risk\\r\\nSo I won\\'t go, I can\\'t do it on his own,\\r\\nIf this ain\\'t love, then what is?\\r\\nI\\'m willing to take the risk \\'Cause he won\\'t go\\r\\nHe can\\'t do it on his own\\r\\nIf this ain\\'t love, then what is?\\r\\nWe\\'re willing to take the risk\\r\\nI won\\'t go! I can\\'t do it on my own\\r\\nIf this ain\\'t love, then what is?\\r\\nI\\'m willing to take the risk I let it fall, my heart,\\r\\nAnd as it fell you rose to claim it\\r\\nIt was dark and I was over\\r\\nUntil you kissed my lips and you saved me My hands, they\\'re strong\\r\\nBut my knees were far too weak\\r\\nTo stand in your arms\\r\\nWithout falling to your feet But there\\'s a side to you\\r\\nThat I never knew, never knew\\r\\nAll the things you\\'d say\\r\\nThey were never true, never true\\r\\nAnd the games you play\\r\\nYou would always win, always win But I set fire to the rain\\r\\nWatched it pour as I touched your face\\r\\nWell, it burned while I cried\\r\\n\\'Cause I heard it screaming Out your name,\\r\\nYour name When I lay with you\\r\\nI could stay there\\r\\nClose my eyes\\r\\nFeel you here forever\\r\\nYou and me together nothing gets better \\'Cause there\\'s a side to you\\r\\nThat I never knew, never knew\\r\\nAll the things you\\'d say\\r\\nThey were never true, never true\\r\\nAnd the games you play\\r\\nYou would always win, always win But I set fire to the rain\\r\\nWatched it pour as I touched your face\\r\\nWell, it burned while I cried\\r\\n\\'Cause I heard it screaming out your name,\\r\\nYour name I set fire to the rain\\r\\nAnd I threw us into the flames\\r\\nWell, it felt something died\\r\\n\\'Cause I knew that that was\\r\\nThe last time, the last time Sometimes I wake up by the door,\\r\\nThat heart you caught must be waiting for you\\r\\nEven now when we\\'re already over\\r\\nI can\\'t help myself from looking for you I set fire to the rain\\r\\nWatched it pour as I touched your face\\r\\nWell, it burned while I cried\\r\\n\\'Cause I heard it screaming Out your name,\\r\\nYour name I set fire to the rain,\\r\\nAnd I threw us into the flames\\r\\nWell, it felt something died\\r\\n\\'Cause I knew that, that was the last time\\r\\nThe last time Let it burn\\r\\nLet it burn\\r\\nLet it burn Daydreamer\\r\\nSitting on the sea\\r\\nSoaking up the sun\\r\\nHe is a real lover\\r\\nAnd making up the past\\r\\nFeeling up his girl\\r\\nLike he\\'s never felt a figure before A jaw dropper\\r\\nLooks good when he walks\\r\\nIs the subject of their talk\\r\\nHe would be hard to chase\\r\\nBut good to catch\\r\\nAnd he could change the world\\r\\nWith his hands behind his back, oh You can find him sittin\\' on your doorstep\\r\\nWaiting for a surprise\\r\\nAnd he will feel like he\\'s been there for hours\\r\\nAnd you can tell that he\\'ll be there for life Daydreamer\\r\\nWith eyes that make you melt\\r\\nHe lends his coat for shelter\\r\\nPlus he\\'s there for you\\r\\nWhen he shouldn\\'t be\\r\\nBut he stays all the same\\r\\nWaits for you\\r\\nThen sees you through There\\'s no way I\\r\\nCould describe him\\r\\nWhat I\\'ll say is\\r\\nJust what I\\'m hoping for But I will find him sittin\\' on my doorstep\\r\\nWaiting for a surprise\\r\\nAnd he will feel like he\\'s been there for hours\\r\\nAnd I can tell that he\\'ll be there for life\\r\\nAnd I can tell that he\\'ll be there for life With your loving, there ain\\'t nothing\\r\\nThat I can\\'t adore\\r\\nThe way I\\'m running, with you, honey\\r\\nIs we can break every low\\r\\nI find it funny that you\\'re the only\\r\\nOne I never looked for\\r\\nThere is something in your loving\\r\\nThat tears down my walls I wasn\\'t ready then, I\\'m ready now\\r\\nI\\'m heading straight for you\\r\\nYou will only be eternally\\r\\nThe one that I belong to The sweetest devotion\\r\\nHitting me like an explosion\\r\\nAll of my life, I\\'ve been frozen\\r\\nThe sweetest devotion I\\'ve known I\\'ll forever be whatever you want me to be\\r\\nI\\'ll go under and all over for your clarity\\r\\nWhen you wonder if I\\'m gonna lose my way home\\r\\nJust remember, that come whatever, I\\'ll be yours all alone I wasn\\'t ready then, I\\'m ready now\\r\\nI\\'m heading straight for you\\r\\nYou will only be eternally\\r\\nThe one that I belong to The sweetest devotion\\r\\nHitting me like an explosion\\r\\nAll of my life, I\\'ve been frozen\\r\\nThe sweetest devotion I\\'ve known I\\'ve been looking for you, baby\\r\\nIn every face that I\\'ve ever known\\r\\nAnd there is something \\'bout the way you love me\\r\\nThat finally feels like home\\r\\nAll my life, you\\'re my darkness\\r\\nYou\\'re the right kind of madness\\r\\nAnd you\\'re my hope, you\\'re my despair\\r\\nYou\\'re my scope, everything, everywhere The sweetest devotion\\r\\nHitting me like an explosion\\r\\nAll of my life, I\\'ve been frozen\\r\\nThe sweetest devotion I\\'ve known Sweetest\\r\\nIt\\'s the sweetest\\r\\nSweetest\\r\\nIt\\'s the sweetest\\r\\nSweetest\\r\\nIt\\'s the sweetest\\r\\nSweetest\\r\\nIt\\'s the sweetest\\r\\nDevotion [Verse 1]\\r\\nWhen did it go wrong, I will never know\\r\\nI have loved you all my life\\r\\nHow did it slow down, I go round and round\\r\\nThinking about it all the time [Pre-Chorus]\\r\\nI gave you heaven on a platter baby\\r\\nI gave you everything you never gave me\\r\\nI never lied and I never faked it\\r\\nOnly wanted for you to save me\\r\\nThis love, it ain\\'t over yet\\r\\nThere\\'s too much that I haven\\'t said [Chorus]\\r\\nDid you find the note that I wrote?\\r\\nI hid it in the seam of your coat\\r\\nIt was hard to write, had a lump in my throat\\r\\nDo you even know that I can\\'t let go [Verse 2]\\r\\nWhy were you so cold, let the truth be told\\r\\nTell me was it all for the thrill?\\r\\nWhat was I thinking, I gave you everything\\r\\nBut you still went for the kill [Pre-Chorus]\\r\\nI gave you heaven on a platter baby\\r\\nI gave you everything you never gave me\\r\\nI never lied and I never faked it\\r\\nOnly wanted for you to save me [Chorus]\\r\\nDid you find the note that I wrote?\\r\\nI hid it in the seam of your coat\\r\\nIt was hard to write, had a lump in my throat\\r\\nDo you even know that I can\\'t let go [Bridge]\\r\\nOooh sometimes I feel like I\\'m in the dark\\r\\nOooh I thought I\\'d die in your arms [Chorus]\\r\\nDid you find the note that I wrote?\\r\\nI hid it in the seam of your coat\\r\\nIt was hard to write, I had a lump in my throat\\r\\nDo you even know that I can\\'t let go [Outro]\\r\\nHope you know, I won\\'t let go I thought I told you, he\\'d be home soon\\r\\nCouldn\\'t help myself, you\\'re too good to be true.\\r\\nI fall short each time,\\r\\nEvery time he ain\\'t here\\r\\nYou and your charm creep closer\\r\\nCloser and near\\r\\nLike a fool for fire, I fall, with my pride and all.\\r\\nLike a bomb before explosion,\\r\\nTicking by your call,\\r\\nYou\\'re the wiser one, disguised from greed,\\r\\nAnd I\\'m just a child who belongs on her knees. But I found a boy who I love more,\\r\\nThan I ever did you before,\\r\\nSo stand beside the river I cried,\\r\\nAnd lay yourself down.\\r\\nLook how you want me now that I don\\'t need you. So, you thought that I\\'d crumble to my knees\\r\\nAt the first sight of you crawling back to me\\r\\nTo whisper \"will you leave your man? \"\\r\\nCause you swear that this time you can stand by me.\\r\\nI won\\'t stand by you. Cause I found a boy who I love more,\\r\\nThan I ever did you before,\\r\\nSo stand beside the river I cried\\r\\nAnd lay yourself down.\\r\\nLook how you want me now that I don\\'t need you! I ain\\'t yours for no taking,\\r\\nYou must be mistaken\\r\\nI could never look into your eyes, and settle for wrong\\r\\nAnd ignore the right When I found a boy who loves me more,\\r\\nThan you ever did me before.\\r\\nSo stand beside the river you cried\\r\\nAnd lay yourself down!\\r\\nLook how you want me now that I don\\'t need you! Found myself today singing out your name,\\r\\nYou said I\\'m crazy,\\r\\nIf I am I\\'m crazy for you. Sometimes sitting in the dark wishing you were here\\r\\nTurns me crazy,\\r\\nBut it\\'s you who makes me lose my head. And every time I\\'m meant to be acting sensible\\r\\nYou drift into my head\\r\\nAnd turn me into a crumbling fool. Tell me to run and I\\'ll race,\\r\\nIf you want me to stop I\\'ll freeze,\\r\\nAnd if you want me gone. I\\'ll leave, just hold me closer baby,\\r\\nAnd make me crazy for you.\\r\\nCrazy for you. Lately with this state I\\'m in I can\\'t help myself but spin.\\r\\nI wish you\\'d come over,\\r\\nSend me spinning closer to you. My oh my, how my blood boils, it\\'s sweet taste for you,\\r\\nStrips me down bare\\r\\nAnd gets me into my favorite mood. I keep on trying, fighting these feelings away,\\r\\nBut the more I do,\\r\\nThe crazier I turn into. Pacing floors and opening doors,\\r\\nHoping you\\'ll walk through\\r\\nAnd save me boy,\\r\\nBecause I\\'m too crazy for you.\\r\\nCrazy for you Everybody tells me it\\'s \\'bout time that I moved on\\r\\nAnd I need to learn to lighten up and learn how to be young\\r\\nBut my heart is a valley, it\\'s so shallow and man made\\r\\nI\\'m scared to death if I let you in that you\\'ll see I\\'m just a fake\\r\\nSometimes I feel lonely in the arms of your touch\\r\\nBut I know that\\'s just me, \\'cause nothing ever is enough\\r\\nWhen I was a child I grew up by the River Lea\\r\\nThere was something in the water, now that something\\'s in me\\r\\nOh I can\\'t go back, but the reeds are growing out of my fingertips\\r\\nI can\\'t go back to the river But it\\'s in my roots, it\\'s in my veins\\r\\nIt\\'s in my blood and I stain every heart that I use to heal the pain But it\\'s in my roots, it\\'s in my veins\\r\\nIt\\'s in my blood and I stain every heart that I use to heal the pain\\r\\nSo I blame it on the River Lea, the River Lea, the River Lea\\r\\nYeah, I blame it on the River Lea, the River Lea, the River Lea I should probably tell you now before it\\'s way too late\\r\\nThat I never meant to hurt you or lie straight to your face\\r\\nConsider this my apology, I know it\\'s years in advance\\r\\nBut I\\'d rather say it now in case I never get the chance\\r\\nNo, I can\\'t go back, but the reeds are growing out of my fingertips\\r\\nI can\\'t go back to the river But it\\'s in my roots, it\\'s in my veins\\r\\nIt\\'s in my blood and I stain every heart that I use to heal the pain It\\'s in my roots, it\\'s in my veins\\r\\nIt\\'s in my blood and I stain every heart that I use to heal the pain So I blame it on the River Lea, the River Lea, the River Lea\\r\\nYeah I blame it on the River Lea, the River Lea, the River Lea So I blame it on the River Lea, the River Lea, the River Lea\\r\\nYeah, I blame it on the River Lea, the River Lea, the River Lea I never woulda hitch-hiked to Birmingham\\r\\nIf it hadn\\'t been for love\\r\\nI never woulda caught the train to Louisiana\\r\\nIf it hadn\\'t been for love\\r\\nI never woulda run through the blindin\\' rain\\r\\nWithout one dollar to my name\\r\\nIf it hadn\\'t been, if it hadn\\'t been for love I never woulda seen the trouble that I\\'m in\\r\\nIf it hadn\\'t been for love\\r\\nWoulda been gone like a wayward wind\\r\\nIf it hadn\\'t been for love\\r\\nNobody knows it better than me\\r\\nI wouldn\\'t be wishing I was free\\r\\nIf it hadn\\'t been, if it hadn\\'t been for love Four cold walls against my will\\r\\nAt least I know he\\'s lying still\\r\\nFour cold walls without parole\\r\\nLord have mercy on my soul Four cold walls against my will\\r\\nAt least I know he\\'s lying still\\r\\nFour cold walls without parole\\r\\nLord have mercy on my soul I never woulda hitch-hiked to Birmingham\\r\\nIf it hadn\\'t been for love\\r\\nI never woulda caught the train to Louisiana\\r\\nIf it hadn\\'t been for love\\r\\nI never woulda loaded up a forty-four\\r\\nPut myself behind a jailhouse door\\r\\nIf it hadn\\'t been, if it hadn\\'t been for love\\r\\nIf it hadn\\'t been, if it hadn\\'t been for love, yes\\r\\nIf it hadn\\'t been, if it hadn\\'t been for love, yes Hold my hand while you cut me down\\r\\nIt had only just begun but now it\\'s over now\\r\\nAnd you\\'re in the heat of moments with your heart playing up cold\\r\\nI\\'m between the middle watching hastiness unfold\\r\\nOn my eyes you were smiling in the spotlight dancing with the night\\r\\nThe night\\r\\nWhen I fell off your mind I\\'m tired of trying\\r\\nYour teasing ain\\'t enough\\r\\nFed up of biding your time\\r\\nWhen I don\\'t get nothing back\\r\\nAnd for what, and for what, and for what\\r\\nWhen I don\\'t get nothing back\\r\\nOy, I\\'m tired Where\\'d you go when you stayed behind\\r\\nI looked up and inside down and outside only to find\\r\\nA double taking punching hard and laughing at my smile\\r\\nI get closer you obviously prefer her I\\'m tired of trying\\r\\nYour teasing ain\\'t enough\\r\\nFed up of biding your time\\r\\nWhen I don\\'t get nothing back\\r\\nAnd for what, and for what, and for what\\r\\nWhen I don\\'t get nothing back\\r\\nBoy I\\'m tired of trying\\r\\nYour teasing ain\\'t enough\\r\\nFed up of biding your time\\r\\nWhen I don\\'t get nothing back\\r\\nAnd for what, and for what, and for what\\r\\nWhen I don\\'t get nothing back\\r\\nOy, I\\'m tired (I should have known) Never mind said your open arms\\r\\nI couldn\\'t help believe they tricked me back into them, even though I\\'m tired of trying\\r\\nYour teasing ain\\'t enough\\r\\nFed up of biding your time\\r\\nWhen I don\\'t get nothing back\\r\\nAnd for what, and for what, and for what\\r\\nWhen I don\\'t get nothing back\\r\\nBoy I\\'m tired of trying\\r\\nYour teasing ain\\'t enough\\r\\nFed up of biding your time\\r\\nWhen I don\\'t get nothing back\\r\\nAnd for what, and for what, and for what\\r\\nWhen I don\\'t get nothing back\\r\\nOy, I\\'m tired Who wants to be right as rain\\r\\nIt\\'s better when something is wrong\\r\\nYou get excitement in your bones\\r\\nAnd everything you do\\'s a game\\r\\nWhen night comes and you\\'re on your own\\r\\nYou can say I chose to be alone\\r\\nWho wants to be right as rain\\r\\nIt\\'s harder when you\\'re on top \\'Cause when hard work don\\'t pay off\\r\\nAnd I\\'m tired there ain\\'t no room in my bed\\r\\nAs far as I\\'m concerned\\r\\nSo wipe that dirty smile off\\r\\nWe won\\'t be making up\\r\\nI\\'ve cried my heart out\\r\\nAnd now I\\'ve had enough of love Who wants to be riding high\\r\\nWhen you\\'ll just crumble back on down\\r\\nYou give up everything you are\\r\\nAnd even then you don\\'t get far\\r\\nThey make believe that everything\\r\\nIs exactly what it seems\\r\\nBut at least when you\\'re at your worst\\r\\nYou know how to feel things \\'Cause when hard work don\\'t pay off\\r\\nAnd I\\'m tired there ain\\'t no room in my bed\\r\\nAs far as I\\'m concerned\\r\\nSo wipe that dirty smile off\\r\\nWe won\\'t be making up\\r\\nI\\'ve cried my heart out\\r\\nAnd now I\\'ve had enough of love Go ahead and still my heart\\r\\nTo make me cry again\\r\\n\\'Cause it will never hurt\\r\\nAs much as it did then\\r\\nWe were both right\\r\\nAnd no one had blame\\r\\nBut now I give up\\r\\nOn this endless game \\'Cause who wants to be right as rain\\r\\nIt\\'s better when something is wrong\\r\\nI get excitement in my bones\\r\\nEven though everything\\'s a strain\\r\\nWhen night comes and I\\'m on my own\\r\\nYou should know I chose to be alone\\r\\nWho wants to be right as rain\\r\\nIt\\'s harder when you\\'re on top \\'Cause when hard work don\\'t pay off\\r\\nAnd I\\'m tired there ain\\'t no room in my bed\\r\\nAs far as I\\'m concerned\\r\\nSo wipe that dirty smile off\\r\\nWe won\\'t be making up\\r\\nI\\'ve cried my heart out\\r\\nAnd now I\\'ve had enough of love No room in my bed\\r\\nAs far as I\\'m concerned\\r\\nSo wipe that dirty smile off\\r\\nWe won\\'t be making up\\r\\nI\\'ve cried my heart out\\r\\nAnd now I\\'ve had enough of love So little to say but so much time\\r\\nDespite my empty mouth the words are in my mind\\r\\nPlease wear the face, the one where you smile\\r\\nBecause you lighten up my heart when I start to cry Forgive me first love, but I\\'m tired\\r\\nI need to get away to feel again\\r\\nTry to understand why, don\\'t get so close to change my mind\\r\\nPlease wipe that look out of your eyes, it\\'s bribing me to doubt myself\\r\\nSimply, it\\'s tiring This love has dried up and stayed behind\\r\\nAnd if I stay I\\'ll be alive\\r\\nThen choke on words I\\'d always hide\\r\\nExcuse me first love, but we\\'re through\\r\\nI need to taste the kiss from someone new Forgive me first love, but I\\'m too tired\\r\\nI\\'m bored to say the least and I, I lack desire\\r\\nForgive me first love, forgive me first love, forgive me first love\\r\\nForgive me first love forgive me, forgive me first love, forgive me first love This is the end\\r\\nHold your breath and count to ten\\r\\nFeel the earth move and then\\r\\nHear my heart burst again For this is the end\\r\\nI\\'ve drowned and dreamt this moment\\r\\nSo overdue I owe them\\r\\nSwept away, I\\'m stolen Let the skyfall\\r\\nWhen it crumbles\\r\\nWe will stand tall\\r\\nFace it all together Let the skyfall\\r\\nWhen it crumbles\\r\\nWe will stand tall\\r\\nFace it all together\\r\\nAt skyfall\\r\\nAt skyfall Skyfall is where we start\\r\\nA thousand miles and poles apart\\r\\nWhere worlds collide and days are dark\\r\\nYou may have my number, you can take my name\\r\\nBut you\\'ll never have my heart Let the skyfall (let the sky fall)\\r\\nWhen it crumbles (when it crumbles)\\r\\nWe will stand tall (we will stand tall)\\r\\nFace it all together Let the skyfall (let the sky fall)\\r\\nWhen it crumbles (when it crumbles)\\r\\nWe will stand tall (we will stand tall)\\r\\nFace it all together\\r\\nAt skyfall [x2:]\\r\\n(Let the sky fall\\r\\nWhen it crumbles\\r\\nWe will stand tall) Where you go I go\\r\\nWhat you see I see\\r\\nI know I\\'d never be me\\r\\nWithout the security\\r\\nOf your loving arms\\r\\nKeeping me from harm\\r\\nPut your hand in my hand\\r\\nAnd we\\'ll stand Let the skyfall (let the sky fall)\\r\\nWhen it crumbles (when it crumbles)\\r\\nWe will stand tall (we will stand tall)\\r\\nFace it all together Let the skyfall (let the sky fall)\\r\\nWhen it crumbles (when it crumbles)\\r\\nWe will stand tall (we will stand tall)\\r\\nFace it all together\\r\\nAt skyfall Let the sky fall\\r\\nWe will stand tall\\r\\nAt skyfall This is how the story went\\r\\nI met someone by accident\\r\\nIt blew me away\\r\\nBlew me away It was in the darkest of my days\\r\\nWhen you took my sorrow and you took my pain\\r\\nAnd buried them away, you buried them away I wish I could lay down beside you\\r\\nWhen the day is done\\r\\nAnd wake up to your face against the morning sun\\r\\nBut like everything I\\'ve ever known\\r\\nYou disappear one day\\r\\nSo I spend my whole life hiding my heart away Dropped you off at the train station\\r\\nPut a kiss on top of your head\\r\\nWatch you wave\\r\\nAnd watched you wave Then I went on home to my skyscrapers\\r\\nAnd neon lights and waiting papers\\r\\nThat I call home\\r\\nI call that home I wish I could lay down beside you\\r\\nWhen the day is done\\r\\nAnd wake up to your face against the morning sun\\r\\nBut like everything I\\'ve ever known\\r\\nYou disappear one day\\r\\nSo I spend my whole life hiding my heart away, away Woke up feeling heavy-hearted\\r\\nI\\'m going back to where I started\\r\\nThe morning rain, the morning rain\\r\\nAnd though I wish that you were here\\r\\nOn that same old road that brought me here\\r\\nIt\\'s calling me home, It\\'s calling me home I wish I could lay down beside you\\r\\nWhen the day is done\\r\\nAnd wake up to your face against the morning sun\\r\\nBut like everything I\\'ve ever known\\r\\nYou disappear one day\\r\\nSo I spend my whole life hiding my heart away\\r\\nI can\\'t spend my whole life hiding my heart away Right under my feet there\\'s air made of bricks\\r\\nPulls me down turns me weak for you\\r\\nI find myself repeating like a broken tune\\r\\nAnd I\\'m forever excusing your intentions\\r\\nThat I give in to my pretendings\\r\\nWhich forgive you each time\\r\\nWithout me knowing\\r\\nThey melt my heart to stone And I hear your words that I made up\\r\\nYou say my name like there could be an us\\r\\nI best tidy up my head I\\'m the only one in love\\r\\nI\\'m the only one in love Each and every time I turn around to leave\\r\\nI feel my heart begin to burst and bleed\\r\\nSo desperately I try to link it with my head\\r\\nBut instead I fall back to my knees\\r\\nAs you tear your way right through me\\r\\nI forgive you once again\\r\\nWithout me knowing\\r\\nYou\\'ve burnt my heart to stone And I hear your words that I made up\\r\\nYou say my name like there could be an us\\r\\nI best tidy up my head I\\'m the only one in love\\r\\nI\\'m the only one in love Why do you steal my hand\\r\\nWhenever I\\'m standing my own ground\\r\\nYou build me up, then leave me dead I hear your words you made up\\r\\nI say your name like there should be an us\\r\\nI best tidy up my head I\\'m the only one, in love\\r\\nI\\'m the only one in love Fool that I am for falling in love with you\\r\\nAnd fool that I am for thinking you loved me too You took my heart then played the part of little coquette\\r\\nAnd my dreams just disappeared like the smoke from a cigarette Fool that I am for hoping you\\'d understand\\r\\nAnd thinking you would listen to all of the things\\r\\nThe things I had planned But we couldn\\'t see eye to eye\\r\\nSo darling\\r\\nDarling\\r\\nDarling this is goodbye Oh\\r\\nI still care\\r\\nFool that I am\\r\\nOoh\\r\\nI still care\\r\\nFool that I am You say it\\'s all in my head\\r\\nAnd the things I think just don\\'t make sense\\r\\nSo where you been then? Don\\'t go all coy\\r\\nDon\\'t turn it round on me like it\\'s my fault\\r\\nSee I can see that look in your eyes\\r\\nThe one that shoots me each and every time You grace me with your cold shoulder\\r\\nWhenever you look at me I wish I was her\\r\\nYou shower me with words made of knives\\r\\nWhenever you look at me I wish I was her These days when I see you\\r\\nYou make it look like I\\'m see-through\\r\\nDo tell me why you waste our time\\r\\nWhen your heart ain\\'t in it, and you\\'re not satisfied\\r\\nYou know I know just how you feel\\r\\nI\\'m starting to find myself feeling that way too When you grace me with your cold shoulder\\r\\nWhenever you look at me I wish I was her\\r\\nYou shower me with words made of knives\\r\\nWhenever you look at me I wish I was her Time and time again, I play the role of fool\\r\\n(Just for you)\\r\\nEven in the daylight when you think that\\r\\n(I don\\'t see you)\\r\\nTry to look for things I hear but our eyes never find\\r\\nThough I do know how you play You grace me with your cold shoulder\\r\\nWhenever you look at me I wish I was her\\r\\nYou shower me with words made of knives\\r\\nWhenever you look at me I wish I was her You grace me with your cold shoulder\\r\\nWhenever you look at me I wish I was her\\r\\nYou shower me with words made of knives\\r\\nWhenever you look at me I wish I was her [Adele]\\r\\nWhy do you love me\\r\\nDo you love me...?\\r\\nWhy do you love me\\r\\nDo you love me?\\r\\nWhy do you love me\\r\\nDo you love me? Why do you love me...? Why do you love me, do you love me?\\r\\nWhy do you love me, do you love me?\\r\\nWhy do you love me, do you love me?\\r\\nWhy do you love me? Why do you love me?\\r\\nThere must be something in the water\\r\\nCause baby I\\'m in deeper than I knew\\r\\nHow do you keep me coming back for more\\r\\nAfter all we\\'ve been through\\r\\nI can\\'t decide if I should run and hide It\\'s above and beyond me\\r\\nIt\\'s out of my hands\\r\\nYour love drives me crazy\\r\\nIt\\'s hard to understand just why\\r\\nI want you to love me\\r\\nI want you to love me\\r\\nI want you to love me\\r\\nI want you to love me... Who knows why I love you\\r\\nIt could be something in the air I breath\\r\\nWhatever it is, I depend on it\\r\\nWhere does the time go?\\r\\nI spend every single moment daydreaming of you\\r\\nI can\\'t describe how I feel, it feels right It\\'s above and beyond me\\r\\nIt\\'s out of my hands\\r\\nYour love drives me crazy\\r\\nIt\\'s hard to understand just why\\r\\nI want you to love me\\r\\nI want you to love me\\r\\nI want you to love me\\r\\nI want you to love me You were a shock in the dark that blew me away\\r\\nAnd you left your mark and it never will fade\\r\\nYou ignited a spark, let the fires away\\r\\nAre you ready, ready?\\r\\nYou have a place in my heart that will always be yours\\r\\nYou are the peak and art of my universe\\r\\nEvery piece and part, you were the first\\r\\nI am ready, ready It\\'s above and beyond me,\\r\\nIt\\'s out of my hands\\r\\nYour love drives me crazy, it\\'s hard to understand just why\\r\\nI want you to love me\\r\\nI want you to love me\\r\\nI want you to love me\\r\\nI want you It\\'s above and beyond me,\\r\\nIt\\'s out of my hands\\r\\nYour love drives me crazy, it\\'s hard to understand just why\\r\\nI want you to love me\\r\\nI want you to love me\\r\\nI want you to love me\\r\\nI want you to love me... Why do you love me, do you love me?\\r\\nWhy do you love me, do you love me?\\r\\nWhy do you love me, do you love me?\\r\\nWhy do you love me, do you love me? You said I\\'m stubborn and I never give in\\r\\nI think you\\'re stubborn \\'cept you\\'re always softening\\r\\nYou say I\\'m selfish, I agree with you on that\\r\\nI think you\\'re giving out in way too much in fact\\r\\nI say we\\'ve only known each other a year\\r\\nYou say I\\'ve known you longer my dear\\r\\nYou like to be so close, I like to be alone\\r\\nI like to sit on chairs and you prefer the floor\\r\\nWalking with each other,\\r\\nThink we\\'ll never match at all, but we do\\r\\nBut we do, but we do, but we do I thought I knew myself, somehow you know me more\\r\\nI\\'ve never known this, never before\\r\\nYou\\'re the first to make up whenever we argue\\r\\nI don\\'t know who I\\'d be if I didn\\'t know you\\r\\nYou\\'re so provocative, I\\'m so conservative\\r\\nYou\\'re so adventurous, I\\'m so very cautious, combining\\r\\nYou think we would and we do,\\r\\nBut we do, but we do, but we do Favoritism ain\\'t my thing but,\\r\\nIn this situation I\\'ll be glad Favoritism ain\\'t my thing but,\\r\\nIn this situation I\\'ll be glad to make an exception You said I\\'m stubborn and I never give in\\r\\nI think you\\'re stubborn \\'cept you\\'re always softening\\r\\nYou say I\\'m selfish, I agree with you on that\\r\\nI think you\\'re giving out in way too much in fact\\r\\nI say we\\'ve only known each other one year\\r\\nYou say I\\'ve known you longer my dear\\r\\nYou like to be so close, I like to be alone\\r\\nI like to sit on chairs and you prefer the floor\\r\\nWalking with each other,\\r\\nThink we\\'ll never match at all, but we do In the darkness of my heart is a shadow of your face\\r\\nFrom the deepest part of my regret\\r\\nI hear the words I wish I\\'d said\\r\\nAt the dawning of the day\\r\\nI can\\'t wait to see the light\\r\\nMake up memories in my head\\r\\nThey help to fill the emptiness you\\'ve left\\r\\nI can\\'t drown in your tears\\r\\nI won\\'t face your fears\\r\\nI need to fight my own\\r\\nYou\\'ll never see me again oh baby in time\\r\\nLet the weight take me under\\r\\nI know I\\'ll survive\\r\\nYou\\'ll never see me again At the dawning of the day\\r\\nI can\\'t bare to see the light\\r\\nMake up memories in my head\\r\\nThey help to fill the emptiness you\\'ve left\\r\\nI can\\'t drown in your tears\\r\\nI won\\'t face your fears\\r\\nI need to fight my own\\r\\nYou\\'ll never see me again oh baby in time\\r\\nLet the weight take me under\\r\\nI know I\\'ll survive Let the floor beneath of me fall\\r\\nLet the sky come crashing down\\r\\nTurn all my right to wrong\\r\\nBut after you that goes on\\r\\nYou\\'ll never see me again\\r\\nI\\'ve been learning to live without you\\r\\nIt\\'s taken all of my stake\\r\\nBut I\\'m stronger now You\\'ll never see me again oh baby in time\\r\\nLet the weight take me under\\r\\nI know I\\'ll survive Let the floor beneath of me fall\\r\\nLet the sky come crashing down\\r\\nTurn all my right to wrong\\r\\nBut after you that goes on\\r\\nYou\\'ll never see me again\\r\\nYou\\'ll never see me again\\r\\nYou\\'ll never see me again I want to see your face in every kind of light\\r\\nIn fields of dawn and forests of the night\\r\\nAnd when you stand before the candles on a cake\\r\\nOh, let me be the one to hear the silent wish you make What are you doing the rest of your life?\\r\\nNorth and South and East and West of your life\\r\\nI have only one request of your life\\r\\nThat you spend it all with me All the seasons and the times of your days\\r\\nAll the nickels and the dimes of your days\\r\\nLet the reasons and the rhymes of your days\\r\\nAll begin and end with me I want to see your face in every kind of light\\r\\nIn the fields of dawn and the forests of the night\\r\\nAnd when you stand before the candles on a cake\\r\\nOh, let me be the one to hear the silent wish you make Those tomorrows waiting deep in your eyes\\r\\nIn the world of love that you keep in your eyes\\r\\nI\\'ll awaken what\\'s asleep in your eyes\\r\\nIt may take a kiss or two Through all of my life\\r\\nSummer, Winter, Spring, and Fall of my life\\r\\nAll I ever will recall of my life\\r\\nIs all of my life with you Wait, do you see my heart on my sleeve?\\r\\nIt\\'s been there for days on end and\\r\\nIt\\'s been waiting for you to open up\\r\\nYours too baby, come on now\\r\\nI\\'m trying to tell you just how\\r\\nI\\'d like to hear the words roll out of your mouth finally\\r\\nSay that it\\'s always been me That\\'s made you feel the way you\\'ve never felt before\\r\\nAnd I\\'m all you need and that you never want more\\r\\nThen you\\'d say all of the right things without a clue\\r\\nBut you\\'d save the best for last\\r\\nLike I\\'m the one for you You should know that you\\'re just a temporary fix\\r\\nThis is not rooted with you it don\\'t mean that much to me\\r\\nOh just a filler in the space that happened to be free\\r\\nHow dare you think you\\'d get away with trying to play me Why is it every time I think I\\'ve tried my hardest\\r\\nIt turns out it ain\\'t enough\\r\\nYou\\'re still not mentioning love\\r\\nWhat am I supposed to do to make you want me properly?\\r\\nI\\'m taking these chances and getting nowhere\\r\\nAnd though I\\'m trying my hardest you go back to her\\r\\nAnd I think that I know things may never change\\r\\nI\\'m still hoping one day I might hear you say I make you feel the way you\\'ve never felt before\\r\\nAnd I\\'m all you need and that you never want more\\r\\nThen you\\'d say all of the right things without a clue\\r\\nBut you\\'d save the best for last\\r\\nLike I\\'m the one for you You should know that you\\'re just a temporary fix\\r\\nThis is not rooted with you it don\\'t mean that much to me\\r\\nOh just a filler in the space that happened to be free\\r\\nHow dare you think you\\'d get away with trying to play me But, despite the truth that I know\\r\\nI find it hard to let go and give up on you\\r\\nSeems I love the things you do\\r\\nLike the meaner you treat me the more eager I am\\r\\nTo persist with this heartbreak and running around\\r\\nAnd I will do until I\\'m finding myself you And make you feel a way you\\'ve never felt before\\r\\nAnd be all you need so that you never want more\\r\\nAnd you\\'ll say all of the right things without a clue\\r\\nAnd you\\'ll be the one for me and me the one for you I let it fall, my heart,\\r\\nAnd as it fell you rose to claim it\\r\\nIt was dark and I was over\\r\\nUntil you kissed my lips and you saved me My hands, they\\'re strong\\r\\nBut my knees were far too weak\\r\\nTo stand in your arms\\r\\nWithout falling to your feet But there\\'s a side to you\\r\\nThat I never knew, never knew\\r\\nAll the things you\\'d say\\r\\nThey were never true, never true\\r\\nAnd the games you play\\r\\nYou would always win, always win But I set fire to the rain\\r\\nWatched it pour as I touched your face\\r\\nWell, it burned while I cried\\r\\n\\'Cause I heard it screaming Out your name,\\r\\nYour name When I lay with you\\r\\nI could stay there\\r\\nClose my eyes\\r\\nFeel you here forever\\r\\nYou and me together nothing gets better \\'Cause there\\'s a side to you\\r\\nThat I never knew, never knew\\r\\nAll the things you\\'d say\\r\\nThey were never true, never true\\r\\nAnd the games you play\\r\\nYou would always win, always win But I set fire to the rain\\r\\nWatched it pour as I touched your face\\r\\nWell, it burned while I cried\\r\\n\\'Cause I heard it screaming out your name,\\r\\nYour name I set fire to the rain\\r\\nAnd I threw us into the flames\\r\\nWell, it felt something died\\r\\n\\'Cause I knew that that was\\r\\nThe last time, the last time Sometimes I wake up by the door,\\r\\nThat heart you caught must be waiting for you\\r\\nEven now when we\\'re already over\\r\\nI can\\'t help myself from looking for you I set fire to the rain\\r\\nWatched it pour as I touched your face\\r\\nWell, it burned while I cried\\r\\n\\'Cause I heard it screaming Out your name,\\r\\nYour name I set fire to the rain,\\r\\nAnd I threw us into the flames\\r\\nWell, it felt something died\\r\\n\\'Cause I knew that, that was the last time\\r\\nThe last time Let it burn\\r\\nLet it burn\\r\\nLet it burn [Adele]\\r\\nI would never lie to you unless you tell me to...\\r\\nEvery part of me\\r\\nAll my words to hold\\r\\nAnd hold against me\\r\\nWhy won\\'t you let it be? Don\\'t you ever say my love opened up your heart\\r\\nNo I\\'m not gonna do it standing up\\r\\nThe words don\\'t come out right when you\\'re right in front of me\\r\\nHelp me baby\\r\\nWon\\'t you turn off the lights Lay me down\\r\\n\\'til the morning!\\r\\nLay me down (through the night)\\r\\nLay me down (I can fall in)\\r\\nLay me down (Won\\'t you)\\r\\nLay me down (I can baby)\\r\\nLay me down (Someone believe me) I would never break the rules unless you tell me to\\r\\nYou can read my mind, be it truth or lies\\r\\nLie down beside me, why won\\'t you let it be? Don\\'t you ever say my love opened up your heart\\r\\nNo I\\'m not gonna do it standing up\\r\\nThe words don\\'t come out right when you\\'re right in front of me\\r\\nHelp me baby, won\\'t you turn off the lights Lay me down (\\'til the morning)\\r\\nLay me down (through the night)\\r\\nLay me down (I can fall in)\\r\\nLay me down (Won\\'t you)\\r\\nLay me down (I can baby)\\r\\nLay me down (Someone believe me) Lay down with me\\r\\nLay down with me\\r\\nLay down with me\\r\\nLay down with me Words don\\'t come out right when you\\'re right in front of me\\r\\nHelp me baby, won\\'t you turn off the lights Lay me down (\\'til the morning)\\r\\nLay me down (through the night)\\r\\nLay me down (I can fall in)\\r\\nLay me down (Won\\'t you)\\r\\nLay me down (I can baby)\\r\\nLay me down\\r\\nSomeone believe me Never been a girl who used to cry\\r\\nDidn`t show emotions, don`t know why\\r\\nDidn`t wanna feel the pain inside, I guess But as the years keep going by,\\r\\nyou came along and changed my mind\\r\\nI should leave the past behind me,\\r\\nI should let you find me,\\r\\nsupposed to stay beside me\\r\\nYou were supposed to guide me,\\r\\nthrough the ups and downs,\\r\\nyou were always gonna be around until the end I still think we could\\r\\n`cause you and me, we`re good\\r\\nAnd I`ll tell you why this hurts, \\'cause I`m sober But I just wanna be drunk\\r\\nso I can forget about you\\r\\nand all the stupid things that love has put me through\\r\\nEven when I\\'ve had too much,\\r\\nI still feel your touch\\r\\nMaybe this just means that I`m not drunk enough So I pour myself another drink\\r\\nwhenever I start to think about you\\r\\n`cause I do but I really don`t want to\\r\\nbut sometimes my dreams just come through And when I get there,\\r\\nto a place where I see you in a kitchen\\r\\nI start wishing for that thing and I don`t need you,\\r\\nI don`t really wanna see you\\r\\nand I don`t want you to see me,\\r\\nyou would think that I was crazy,\\r\\nyou might think that I wanna be close to you\\r\\nbut I`d rather wanna drink some Whisky\\r\\nand maybe have a little sip `o wine\\r\\n`cause right now it`s the only thing that makes me forget you were mine\\r\\nbut right now I am sober But I just wanna be drunk\\r\\nso I can forget about you\\r\\nand all the stupid things that love has put me through\\r\\nEven when I\\'ve had too much,\\r\\nI still feel your touch\\r\\nMaybe this just means that I`m not drunk enough I still think we could\\r\\n(I`m not drunk enough)\\r\\n`cause you and me, we`re good\\r\\n`cause I`m sober But I just wanna be drunk\\r\\nso I can forget about you\\r\\nand all the stupid things that love has put me through\\r\\nEven when I\\'ve had too much,\\r\\nI still feel your touch\\r\\nMaybe this just means that I`m not drunk enough (I still think we could)\\r\\nBut I just wanna be drunk\\r\\nso I can forget about you\\r\\nand all the stupid things that love has put me through\\r\\n(`cause you and me we`re good)\\r\\nEven when I\\'ve had too much,\\r\\nI still feel your touch\\r\\nMaybe this just means that I`m not drunk enough Think I\\'ve had enough\\r\\nI must my way\\r\\nI\\'ve fallen off the edge to find that I\\'ve gone blind\\r\\nYou\\'re leading me astray\\r\\nYou haunt me like a ghost\\r\\nAnd that scares me the most\\r\\nThere you are the devil on my shoulder\\r\\nSmiling as the flames are growing colder\\r\\nHow can I believer what I have?\\r\\nFor a little confidence I\\'ll grab But when my hand goes out don\\'t take it for I\\'m trying to make it on my own\\r\\nI fell it in my bones any minute now!\\r\\nThis train of thought will leave the statio\\r\\nMy impatience will come out to play\\r\\nYou\\'ve turned out to be the only face I see!\\r\\nRunning through the empty hallways I can tell that I am not alone You spin a web in every room\\r\\nYou spin a web in every room\\r\\nAnd try to break the backbone that I\\'ve grown\\r\\nWill I make my own path or wander where I\\'m thrown\\r\\nWill I make my own path or wander where I\\'m thrown\\r\\nOr wander where I\\'m thrown? When we used\\r\\nTo say goodnight\\r\\nI\\'d always kiss\\r\\nAnd hold you tight\\r\\nBut lately\\r\\nYou don\\'t seem\\r\\nTo care\\r\\nYou close the door\\r\\nAnd leave me\\r\\nStanding there\\r\\nOh, honey\\r\\nThat\\'s not fair\\r\\nThat\\'s it\\r\\nI quit\\r\\nI\\'m movin\\' on The other night\\r\\nWe had a date\\r\\nAn you showed up\\r\\nTwo hours late\\r\\nAnd though your hair\\r\\nWas all in place\\r\\nSomebody smeared\\r\\nTheir lipstick\\r\\nOn your face\\r\\nOh, they smeared it\\r\\nEvery place\\r\\nYe that\\'s it honey\\r\\nI quit I\\'m movin\\' on [Chorus]\\r\\nYou made me want you\\r\\nYou made me leave you\\r\\nYou made me tumble\\r\\nAnd fall\\r\\nBut if I\\r\\nCan\\'t have you the way\\r\\nI want you\\r\\nI don\\'t want you at all Baby, I can take a lot\\r\\n\\'Cause I love\\r\\nEverything you got\\r\\nThough your kisses\\r\\nFill me\\r\\nSo if you got\\r\\nSomeone else\\r\\nI gotta go\\r\\nOh, that you know\\r\\nYe that\\'s it honey\\r\\nI quit I\\'m movin\\' on [Chorus] Baby\\r\\nI can take a lot\\r\\n\\'Cause I love\\r\\nEverything you got\\r\\nThough your kisses\\r\\nFill me\\r\\nSo if you got\\r\\nSomeone else\\r\\nI gotta go\\r\\nOh, that you know\\r\\nSo that\\'s it baby\\r\\nI quit I\\'m movin\\' on\\r\\nYe that\\'s it baby\\r\\nI quit now\\r\\nI\\'m movin\\' on Don\\'t ask me\\r\\nWhat you know is true\\r\\nDon\\'t have to tell you\\r\\nI love your precious heart I was standing\\r\\nYou were there\\r\\nTwo worlds collided\\r\\nAnd they could never tear us apart We could live\\r\\nFor a thousand years\\r\\nBut if I hurt you\\r\\nI\\'d make wine from your tears I told you\\r\\nThat we could fly\\r\\n\\'Cause we all have wings\\r\\nBut some of us don\\'t know why I\\r\\nI was standing\\r\\nYou were there\\r\\nTwo worlds collided\\r\\nAnd they could never ever tear us apart I know sometimes you\\'re scared of the light\\r\\nBut how will you ever know if you never try\\r\\nThere\\'s something new inside my heart\\r\\nAnd it grabs like a child whenever we\\'re apart\\r\\nI see your face under every sky\\r\\nI find the less I look, more I find\\r\\nSo let\\'s go back there, back to the star\\r\\nYou know I\\'m never gonna leave you\\r\\nYou\\'re the only one I want\\r\\nLet\\'s go back there, back to the star\\r\\nYou know I\\'m never gonna leave you\\r\\nYou\\'re the only one I want You know sometimes that I\\'m scared of the dark\\r\\nBut I\\'m feeling sun babe when I\\'m in your arms\\r\\nYou said my name in the dead of glory\\r\\nYou hold me alright\\r\\nWhen I\\'m short of falling So let\\'s go back there, back to the star\\r\\nYou know I\\'m never gonna leave you\\r\\nYou\\'re the only one I want\\r\\nLet\\'s go back there, back to the star\\r\\nYou know I\\'m never gonna leave you\\r\\nYou\\'re the only one I want There will be times\\r\\nWhen we\\'ll try to give it up\\r\\nBursting out, it seems no doubt that will almost fall apart than burn to pieces\\r\\nAnd we\\'ll watch them turn to dust\\r\\nBut without each other, nothing is easy enough So let\\'s go back there, back to the star\\r\\nYou know I\\'m never gonna leave you\\r\\nYou\\'re the only one I want\\r\\nLet\\'s go back there, back to the star\\r\\nYou know I\\'m never gonna leave you\\r\\n\\'cause you\\'re the only one I want, yeah\\r\\nYou\\'re the only one\\r\\nNever gonna leave you\\r\\nNo, I\\'m never gonna leave you, no Go ahead, go ahead and smash it on the floor\\r\\nTake whatever is left, and take it with you out the door\\r\\nSee if I cry\\r\\nSee if I shed a single sorry tear\\r\\nCan\\'t say that it\\'s been that great\\r\\nNo in fact it\\'s been a wasted worried year [Chorus]\\r\\nEverybody sees\\r\\nAnd everyone agrees\\r\\nThat you and I are wrong\\r\\nAnd it\\'s been that way to long\\r\\nTake it as it comes\\r\\nAnd be thankful when it\\'s done\\r\\nThere\\'s so many ways to act\\r\\nAnd there\\'s many shades of black\\r\\nThere\\'s so many shades of black Let it out, let it all out\\r\\nSay what\\'s on your mind\\r\\nYou can kick and scream and shout and say things that are so unkind\\r\\nYeah-see if I care, see if I stand firm or if I fall\\r\\nCause in the back of my mind, and on the tip of my tongue\\r\\nIs the answer to it all [Chorus] Yeah there\\'s many shades of black [Chorus] Cause there\\'s many shades of black\\r\\nThere\\'s so many shades of black\\r\\nYeah there\\'s any shades of black\\r\\nThere\\'s so many shades of black\\r\\nYeah there\\'s many shades of black\\r\\nThere\\'s so many shades of black\\r\\nAnd there\\'s many shades of black\\r\\nThere\\'s so many shades of black Go ahead... Last night she said\\r\\nOh, baby\\r\\nI feel so down\\r\\nOh, and turned me off\\r\\nWhen I feel left out\\r\\nSo I\\r\\nI turned around\\r\\nOh, baby\\r\\nI don\\'t care no more\\r\\nI know this for sure\\r\\nI\\'m walking\\r\\nOut that door Well, I\\'ve been in town\\r\\nFor just about fifteen\\r\\nWhole minutes now\\r\\nOh, baby, I feel so down\\r\\nAnd I don\\'t know why\\r\\nI keep walking for miles But the people\\r\\nThey don\\'t understand\\r\\nNo, girlfriends\\r\\nThey can\\'t understand\\r\\nYour grandsons\\r\\nThey won\\'t understand\\r\\nOn top of this\\r\\nI ain\\'t ever\\r\\nGonna understand Last night she said\\r\\nOh, baby\\r\\nDon\\'t feel so down\\r\\nOh, and turned me off\\r\\nWhen I feel left out\\r\\nSo I, I turned around\\r\\nOh, baby\\r\\nI\\'m gonna be alright\\r\\nIt was a great big lie\\r\\nCuz I left that night\\r\\nYeah Oh, people\\r\\nThey don\\'t understand\\r\\nNo, girlfriends\\r\\nThey don\\'t understand\\r\\nIn spaceships\\r\\nThey won\\'t understand\\r\\nAnd me\\r\\nI ain\\'t ever\\r\\nGonna understand Last night she said\\r\\nOh, baby\\r\\nI feel so down\\r\\nShe had turned me off\\r\\nWhen I feel left out\\r\\nSo I\\r\\nI turned around\\r\\nOh, little girl\\r\\nI don\\'t care no more\\r\\nI know this for sure\\r\\nI\\'m walking\\r\\nOut that door, yeah Painting pictures with my mind\\r\\nMaking memories using my eyes\\r\\nFilling up my heart with golden stories\\r\\nWho adds some spice to the rhythm of life, oh Welcome sunrise with the morning glory\\r\\nI\\'ve changed my mind\\r\\nThere is no simple\\r\\nI thought of me, I want to see\\r\\nI want to feel my heartbeat so\\r\\nWith the world that you feel, leave I can feel the pressure pushing onto my heart\\r\\nAnd it\\'s teasing me\\r\\nTo scratch my itch and beat my drum\\r\\nSo I can start to begin what\\'s begun Painting pictures\\r\\nFilling up my heart with golden stories Painting pictures\\r\\nFilling up my heart with golden stories Running riots inside my soul\\r\\nFire burning and it\\'s lighting me up\\r\\nTo scratch my itch and beat my drum\\r\\nSo I can finish what has begun Painting pictures\\r\\nFilling up my heart with golden stories Painting pictures\\r\\nFilling up my heart with golden stories Sometimes the hole you left hurts\\r\\nMy heart so bad, it cuts through\\r\\nThe deepest parts of me and fills up my mouth with the words that cry\\r\\nOut, I\\'m still trying to stay inside Hearts break and hearts wait\\r\\nTo make us grow from dust\\r\\nThen our eyes cry and souls sigh\\r\\nSo that we know that it hurts Our hearts break and hearts wait\\r\\nTo make us grow from dust\\r\\nThen our eyes cry and souls sigh\\r\\nSo that we know that it hurts Every now and then my memories ache\\r\\nWith empty ideas of the ones we\\'d have made it\\r\\nBut as time goes on and my age gets older\\r\\nI love the ones I know, they\\'re enough to picture the rest \\'Cause heart break and hearts wait\\r\\nTo make us grow from dust\\r\\nThen our eyes cry and souls sigh\\r\\nSo that we know that it hurts Our hearts break and hearts wait\\r\\nTo make us grow from dust\\r\\nThen our eyes cry and souls sigh\\r\\nSo that we know that it hurts You know when to make me, imagine you\\'re here\\r\\nYou know when to make me, imagine you\\'re here\\r\\nYou know when to make me, imagine you\\'re here\\r\\nYou know when to make me, imagine you\\'re here Find yourself a girl\\r\\nAnd settle down\\r\\nLive a simple life\\r\\nIn a quiet town Steady as she goes\\r\\n(Steady as she goes)\\r\\nSteady as she goes\\r\\n(Steady as she goes) So steady as she goes Your friends have shown\\r\\nA kink\\r\\nIn the single life\\r\\nYou\\'ve had\\r\\nToo much to think\\r\\nNow you need a wife Steady as she goes\\r\\n(Steady as she goes)\\r\\nSo steady as she goes\\r\\n(Steady as she goes) Well here we go again\\r\\nYou\\'ve found yourself\\r\\nA friend\\r\\nThat knows you well\\r\\nBut no matter\\r\\nWhat you do\\r\\nYou\\'ll always feel\\r\\nAs though you\\r\\nTripped and fell So steady as she goes When you have completed\\r\\nWhat you thought\\r\\nYou had to do\\r\\nAnd your blood\\'s\\r\\nDepleted\\r\\nTo the point\\r\\nOf stable glue Then you\\'ll get along\\r\\nThen you\\'ll get along Steady as she goes\\r\\n(Steady as she goes)\\r\\nSo steady as she goes\\r\\n(Steady as she goes) Well here we go again\\r\\nYou\\'ve found yourself\\r\\nA friend\\r\\nThat knows you well\\r\\nBut no matter\\r\\nWhat you do\\r\\nYou\\'ll always feel\\r\\nAs though you\\r\\nTripped and fell So steady as she goes\\r\\nSteady as she goes Settle for a girl\\r\\n(Settle for a girl)\\r\\nNeither up or down\\r\\n(Neither up or down)\\r\\nSell it to the crowd\\r\\n(Sell it to the crowd)\\r\\nThat is gathered round\\r\\n(That is gathered round) Settle for a girl\\r\\n(Settle for a girl)\\r\\nNeither up or down\\r\\n(Neither up or down)\\r\\nSell it to the crowd\\r\\n(Sell it to the crowd)\\r\\nThat is gathered round\\r\\n(That is gathered round) So steady as she goes\\r\\n(Steady as she goes)\\r\\nSteady as she goes\\r\\n(Steady as she goes) Steady as she goes\\r\\n(Steady as she goes)\\r\\nSo steady as she goes\\r\\n(Steady as she goes) Steady as she go\\r\\nAre you steady now?\\r\\nSteady as she goes\\r\\nAre you steady now? Steady as she goes\\r\\nAre you steady now?\\r\\nSteady as she goes\\r\\nAre you steady now? Steady as she goes I\\'m insane in the brain\\r\\nYou\\'re not already...\\r\\nFeel the pain running through my veins\\r\\nDon\\'t you piss me off, pretentious, ostentatious\\r\\nOther words are spring to me\\r\\n... emolicious, for the shoot posses no... And you want me to respect you\\r\\nAnd have... for yourself\\r\\nYou\\'re out of control with nobody around to help\\r\\nHelp, help oh oh. Chorus:\\r\\nThis time you\\'re on your own\\r\\nRunning back to mommy hoping that she\\'s home\\r\\nBut if she\\'s not there and you\\'re on your alone\\r\\nSo... you then go calling\\r\\nCall it a fiasco, call it a fiasco, fiasco\\r\\n... fiasco, fiasco,... fiasco\\r\\n1 2 3 4.\\r\\nHustle...\\r\\nWanna try to testify in a... of happiness\\r\\nBe the best, have success,\\r\\nDoesn\\'t mean you\\'re Hollywood Feel blessed not impressed\\r\\nBy the glamour if you think you could. And you want me to respect you\\r\\nAnd have... for yourself\\r\\nYou\\'re out of control with nobody around to help\\r\\nHelp, help oh oh. Chorus:\\r\\nThis time you\\'re on your own\\r\\nRunning about the mammy hoping that she\\'s home\\r\\nBut if she\\'s not there and you\\'re on your alone\\r\\nSo... you then go calling\\r\\nFiasco, call it fiasco, fiasco\\r\\n... fiasco, fiasco,... fiasco\\r\\n1 2 3 4. Fiasco, fiasco [Chorus:]\\r\\n1 2 3 4\\r\\nI\\'m calling, I\\'m calling, I\\'m calling it fiasco,\\r\\nI\\'m calling, I\\'m calling, I\\'m calling it fiasco,\\r\\nI\\'m calling, I\\'m calling, I\\'m calling it fiasco. '"
            ],
            "application/vnd.google.colaboratory.intrinsic+json": {
              "type": "string"
            }
          },
          "metadata": {},
          "execution_count": 3
        }
      ]
    },
    {
      "cell_type": "markdown",
      "metadata": {
        "id": "QW0_lLqv4vEt"
      },
      "source": [
        "### Split data based on new lines:"
      ]
    },
    {
      "cell_type": "code",
      "metadata": {
        "colab": {
          "base_uri": "https://localhost:8080/"
        },
        "id": "cymZ7OK73-Nk",
        "outputId": "72bbf6e2-bf7f-4fd0-c883-3dc8c0de1b5c"
      },
      "source": [
        "# 4\n",
        "data = poetry_response.text.splitlines()\n",
        "print(\"Length of Poetry list : \", len(data), \"\\n\")\n",
        "data[:11]"
      ],
      "execution_count": 4,
      "outputs": [
        {
          "output_type": "stream",
          "name": "stdout",
          "text": [
            "Length of Poetry list :  2400 \n",
            "\n"
          ]
        },
        {
          "output_type": "execute_result",
          "data": {
            "text/plain": [
              "['Looking for some education',\n",
              " 'Made my way into the night',\n",
              " 'All that bullshit conversation',\n",
              " \"Baby, can't you read the signs? I won't bore you with the details, baby\",\n",
              " \"I don't even wanna waste your time\",\n",
              " \"Let's just say that maybe\",\n",
              " 'You could help me ease my mind',\n",
              " \"I ain't Mr. Right But if you're looking for fast love\",\n",
              " \"If that's love in your eyes\",\n",
              " \"It's more than enough\",\n",
              " 'Had some bad love']"
            ]
          },
          "metadata": {},
          "execution_count": 4
        }
      ]
    },
    {
      "cell_type": "markdown",
      "metadata": {
        "id": "d5ipfE4p44_i"
      },
      "source": [
        "### Word count:"
      ]
    },
    {
      "cell_type": "code",
      "metadata": {
        "colab": {
          "base_uri": "https://localhost:8080/"
        },
        "id": "9JLAWUW04fQd",
        "outputId": "609e3be2-ae39-470d-e919-80b893f15671"
      },
      "source": [
        "# 5\n",
        "len(\" \".join(data))"
      ],
      "execution_count": 5,
      "outputs": [
        {
          "output_type": "execute_result",
          "data": {
            "text/plain": [
              "91330"
            ]
          },
          "metadata": {},
          "execution_count": 5
        }
      ]
    },
    {
      "cell_type": "markdown",
      "metadata": {
        "id": "uOOoVcaZ5VUQ"
      },
      "source": [
        "### Perform Tokenization:"
      ]
    },
    {
      "cell_type": "code",
      "metadata": {
        "id": "MKct8r4e4-oT"
      },
      "source": [
        "# 6\n",
        "from tensorflow.keras.preprocessing.text import Tokenizer\n",
        "from tensorflow.keras.utils import to_categorical\n",
        "from tensorflow.keras.models import Sequential\n",
        "from tensorflow.keras.layers import Dense, LSTM, Embedding\n",
        "from tensorflow.keras.preprocessing.sequence import pad_sequences"
      ],
      "execution_count": 6,
      "outputs": []
    },
    {
      "cell_type": "code",
      "metadata": {
        "colab": {
          "base_uri": "https://localhost:8080/"
        },
        "id": "dV2nZbXC56w-",
        "outputId": "e3493a0d-b152-4d0c-c7c8-abbe0ed37684"
      },
      "source": [
        "# 7\n",
        "tokenizer =  Tokenizer()\n",
        "tokenizer.fit_on_texts(data)\n",
        "print(type(tokenizer))\n",
        "encoded_text = tokenizer.texts_to_sequences(data)\n",
        "print(type(encoded_text))\n",
        "print(\"Length of Encoded text data: \", len(encoded_text), \"\\n\")\n",
        "encoded_text[:11]"
      ],
      "execution_count": 7,
      "outputs": [
        {
          "output_type": "stream",
          "name": "stdout",
          "text": [
            "<class 'keras.preprocessing.text.Tokenizer'>\n",
            "<class 'list'>\n",
            "Length of Encoded text data:  2400 \n",
            "\n"
          ]
        },
        {
          "output_type": "execute_result",
          "data": {
            "text/plain": [
              "[[254, 21, 219, 725],\n",
              " [117, 8, 80, 153, 3, 133],\n",
              " [14, 10, 726, 727],\n",
              " [41, 56, 2, 603, 3, 728, 1, 68, 517, 2, 40, 3, 518, 41],\n",
              " [1, 23, 107, 189, 300, 9, 57],\n",
              " [286, 35, 46, 10, 230],\n",
              " [2, 83, 134, 4, 519, 8, 120],\n",
              " [1, 37, 520, 102, 19, 27, 25, 254, 21, 328, 11],\n",
              " [27, 209, 11, 13, 9, 124],\n",
              " [42, 67, 210, 125],\n",
              " [49, 219, 446, 11]]"
            ]
          },
          "metadata": {},
          "execution_count": 7
        }
      ]
    },
    {
      "cell_type": "markdown",
      "metadata": {
        "id": "HX_YdBYj72FU"
      },
      "source": [
        "### Tokenizer details:"
      ]
    },
    {
      "cell_type": "code",
      "metadata": {
        "colab": {
          "base_uri": "https://localhost:8080/"
        },
        "id": "WdnEjt3L65-R",
        "outputId": "148ac05d-566c-4a05-dfb9-62433eaf7392"
      },
      "source": [
        "# 8\n",
        "help(tokenizer)"
      ],
      "execution_count": 8,
      "outputs": [
        {
          "output_type": "stream",
          "name": "stdout",
          "text": [
            "Help on Tokenizer in module keras.preprocessing.text object:\n",
            "\n",
            "class Tokenizer(builtins.object)\n",
            " |  Tokenizer(num_words=None, filters='!\"#$%&()*+,-./:;<=>?@[\\\\]^_`{|}~\\t\\n', lower=True, split=' ', char_level=False, oov_token=None, analyzer=None, **kwargs)\n",
            " |  \n",
            " |  Text tokenization utility class.\n",
            " |  \n",
            " |  Deprecated: `tf.keras.preprocessing.text.Tokenizer` does not operate on\n",
            " |  tensors and is not recommended for new code. Prefer\n",
            " |  `tf.keras.layers.TextVectorization` which provides equivalent functionality\n",
            " |  through a layer which accepts `tf.Tensor` input. See the\n",
            " |  [text loading tutorial](https://www.tensorflow.org/tutorials/load_data/text)\n",
            " |  for an overview of the layer and text handling in tensorflow.\n",
            " |  \n",
            " |  This class allows to vectorize a text corpus, by turning each\n",
            " |  text into either a sequence of integers (each integer being the index\n",
            " |  of a token in a dictionary) or into a vector where the coefficient\n",
            " |  for each token could be binary, based on word count, based on tf-idf...\n",
            " |  \n",
            " |  By default, all punctuation is removed, turning the texts into\n",
            " |  space-separated sequences of words\n",
            " |  (words maybe include the `'` character). These sequences are then\n",
            " |  split into lists of tokens. They will then be indexed or vectorized.\n",
            " |  \n",
            " |  `0` is a reserved index that won't be assigned to any word.\n",
            " |  \n",
            " |  Args:\n",
            " |      num_words: the maximum number of words to keep, based\n",
            " |          on word frequency. Only the most common `num_words-1` words will\n",
            " |          be kept.\n",
            " |      filters: a string where each element is a character that will be\n",
            " |          filtered from the texts. The default is all punctuation, plus\n",
            " |          tabs and line breaks, minus the `'` character.\n",
            " |      lower: boolean. Whether to convert the texts to lowercase.\n",
            " |      split: str. Separator for word splitting.\n",
            " |      char_level: if True, every character will be treated as a token.\n",
            " |      oov_token: if given, it will be added to word_index and used to\n",
            " |          replace out-of-vocabulary words during text_to_sequence calls\n",
            " |      analyzer: function. Custom analyzer to split the text.\n",
            " |          The default analyzer is text_to_word_sequence\n",
            " |  \n",
            " |  Methods defined here:\n",
            " |  \n",
            " |  __init__(self, num_words=None, filters='!\"#$%&()*+,-./:;<=>?@[\\\\]^_`{|}~\\t\\n', lower=True, split=' ', char_level=False, oov_token=None, analyzer=None, **kwargs)\n",
            " |      Initialize self.  See help(type(self)) for accurate signature.\n",
            " |  \n",
            " |  fit_on_sequences(self, sequences)\n",
            " |      Updates internal vocabulary based on a list of sequences.\n",
            " |      \n",
            " |      Required before using `sequences_to_matrix`\n",
            " |      (if `fit_on_texts` was never called).\n",
            " |      \n",
            " |      Args:\n",
            " |          sequences: A list of sequence.\n",
            " |              A \"sequence\" is a list of integer word indices.\n",
            " |  \n",
            " |  fit_on_texts(self, texts)\n",
            " |      Updates internal vocabulary based on a list of texts.\n",
            " |      \n",
            " |      In the case where texts contains lists,\n",
            " |      we assume each entry of the lists to be a token.\n",
            " |      \n",
            " |      Required before using `texts_to_sequences` or `texts_to_matrix`.\n",
            " |      \n",
            " |      Args:\n",
            " |          texts: can be a list of strings,\n",
            " |              a generator of strings (for memory-efficiency),\n",
            " |              or a list of list of strings.\n",
            " |  \n",
            " |  get_config(self)\n",
            " |      Returns the tokenizer configuration as Python dictionary.\n",
            " |      \n",
            " |      The word count dictionaries used by the tokenizer get serialized\n",
            " |      into plain JSON, so that the configuration can be read by other\n",
            " |      projects.\n",
            " |      \n",
            " |      Returns:\n",
            " |          A Python dictionary with the tokenizer configuration.\n",
            " |  \n",
            " |  sequences_to_matrix(self, sequences, mode='binary')\n",
            " |      Converts a list of sequences into a Numpy matrix.\n",
            " |      \n",
            " |      Args:\n",
            " |          sequences: list of sequences\n",
            " |              (a sequence is a list of integer word indices).\n",
            " |          mode: one of \"binary\", \"count\", \"tfidf\", \"freq\"\n",
            " |      \n",
            " |      Returns:\n",
            " |          A Numpy matrix.\n",
            " |      \n",
            " |      Raises:\n",
            " |          ValueError: In case of invalid `mode` argument,\n",
            " |              or if the Tokenizer requires to be fit to sample data.\n",
            " |  \n",
            " |  sequences_to_texts(self, sequences)\n",
            " |      Transforms each sequence into a list of text.\n",
            " |      \n",
            " |      Only top `num_words-1` most frequent words will be taken into account.\n",
            " |      Only words known by the tokenizer will be taken into account.\n",
            " |      \n",
            " |      Args:\n",
            " |          sequences: A list of sequences (list of integers).\n",
            " |      \n",
            " |      Returns:\n",
            " |          A list of texts (strings)\n",
            " |  \n",
            " |  sequences_to_texts_generator(self, sequences)\n",
            " |      Transforms each sequence in `sequences` to a list of texts(strings).\n",
            " |      \n",
            " |      Each sequence has to a list of integers.\n",
            " |      In other words, sequences should be a list of sequences\n",
            " |      \n",
            " |      Only top `num_words-1` most frequent words will be taken into account.\n",
            " |      Only words known by the tokenizer will be taken into account.\n",
            " |      \n",
            " |      Args:\n",
            " |          sequences: A list of sequences.\n",
            " |      \n",
            " |      Yields:\n",
            " |          Yields individual texts.\n",
            " |  \n",
            " |  texts_to_matrix(self, texts, mode='binary')\n",
            " |      Convert a list of texts to a Numpy matrix.\n",
            " |      \n",
            " |      Args:\n",
            " |          texts: list of strings.\n",
            " |          mode: one of \"binary\", \"count\", \"tfidf\", \"freq\".\n",
            " |      \n",
            " |      Returns:\n",
            " |          A Numpy matrix.\n",
            " |  \n",
            " |  texts_to_sequences(self, texts)\n",
            " |      Transforms each text in texts to a sequence of integers.\n",
            " |      \n",
            " |      Only top `num_words-1` most frequent words will be taken into account.\n",
            " |      Only words known by the tokenizer will be taken into account.\n",
            " |      \n",
            " |      Args:\n",
            " |          texts: A list of texts (strings).\n",
            " |      \n",
            " |      Returns:\n",
            " |          A list of sequences.\n",
            " |  \n",
            " |  texts_to_sequences_generator(self, texts)\n",
            " |      Transforms each text in `texts` to a sequence of integers.\n",
            " |      \n",
            " |      Each item in texts can also be a list,\n",
            " |      in which case we assume each item of that list to be a token.\n",
            " |      \n",
            " |      Only top `num_words-1` most frequent words will be taken into account.\n",
            " |      Only words known by the tokenizer will be taken into account.\n",
            " |      \n",
            " |      Args:\n",
            " |          texts: A list of texts (strings).\n",
            " |      \n",
            " |      Yields:\n",
            " |          Yields individual sequences.\n",
            " |  \n",
            " |  to_json(self, **kwargs)\n",
            " |      Returns a JSON string containing the tokenizer configuration.\n",
            " |      \n",
            " |      To load a tokenizer from a JSON string, use\n",
            " |      `keras.preprocessing.text.tokenizer_from_json(json_string)`.\n",
            " |      \n",
            " |      Args:\n",
            " |          **kwargs: Additional keyword arguments\n",
            " |              to be passed to `json.dumps()`.\n",
            " |      \n",
            " |      Returns:\n",
            " |          A JSON string containing the tokenizer configuration.\n",
            " |  \n",
            " |  ----------------------------------------------------------------------\n",
            " |  Data descriptors defined here:\n",
            " |  \n",
            " |  __dict__\n",
            " |      dictionary for instance variables (if defined)\n",
            " |  \n",
            " |  __weakref__\n",
            " |      list of weak references to the object (if defined)\n",
            "\n"
          ]
        }
      ]
    },
    {
      "cell_type": "markdown",
      "metadata": {
        "id": "p7AzUi0N8WBV"
      },
      "source": [
        "### Prepare Training Data:"
      ]
    },
    {
      "cell_type": "code",
      "metadata": {
        "colab": {
          "base_uri": "https://localhost:8080/"
        },
        "id": "yjd-d4lh7zRc",
        "outputId": "20f89b9f-5cf9-4056-bc2d-532bc1c94165"
      },
      "source": [
        "# 9\n",
        "# Adding 1 for adjustment in embedding:\n",
        "vocab_size = len(tokenizer.word_counts) + 1\n",
        "vocab_size"
      ],
      "execution_count": 9,
      "outputs": [
        {
          "output_type": "execute_result",
          "data": {
            "text/plain": [
              "1396"
            ]
          },
          "metadata": {},
          "execution_count": 9
        }
      ]
    },
    {
      "cell_type": "code",
      "metadata": {
        "id": "io4ygoulYzBt"
      },
      "source": [
        "# 10\n",
        "data_list = []\n",
        "for i in encoded_text:\n",
        "  if len(i)>1:\n",
        "    for j in range(2, len(i)):\n",
        "      data_list.append(i[:j])"
      ],
      "execution_count": 10,
      "outputs": []
    },
    {
      "cell_type": "markdown",
      "metadata": {
        "id": "i0gABHpiZ_df"
      },
      "source": [
        "### Perform padding:"
      ]
    },
    {
      "cell_type": "code",
      "metadata": {
        "colab": {
          "base_uri": "https://localhost:8080/"
        },
        "id": "z-2DYT67Z7nS",
        "outputId": "bf1e5078-dffa-4193-9d8a-4f114713b03c"
      },
      "source": [
        "# 11\n",
        "max_length = 20\n",
        "sequences = pad_sequences(data_list, maxlen=max_length, padding=\"pre\")\n",
        "sequences.shape"
      ],
      "execution_count": 11,
      "outputs": [
        {
          "output_type": "execute_result",
          "data": {
            "text/plain": [
              "(14231, 20)"
            ]
          },
          "metadata": {},
          "execution_count": 11
        }
      ]
    },
    {
      "cell_type": "code",
      "metadata": {
        "colab": {
          "base_uri": "https://localhost:8080/"
        },
        "id": "ngo6VeCMasXs",
        "outputId": "130cf952-0b4f-4808-95b4-da03ca620c58"
      },
      "source": [
        "# 12\n",
        "X = sequences[:, :-1]\n",
        "y = sequences[:, -1]\n",
        "print(X.shape)\n",
        "print(y.shape)"
      ],
      "execution_count": 12,
      "outputs": [
        {
          "output_type": "stream",
          "name": "stdout",
          "text": [
            "(14231, 19)\n",
            "(14231,)\n"
          ]
        }
      ]
    },
    {
      "cell_type": "markdown",
      "metadata": {
        "id": "RoWXo4v_bKsz"
      },
      "source": [
        "### One Hot Encoding:"
      ]
    },
    {
      "cell_type": "code",
      "metadata": {
        "colab": {
          "base_uri": "https://localhost:8080/"
        },
        "id": "malJQ0h9bhFu",
        "outputId": "4787cdc6-cf9a-4cdc-9cd1-97a8bd51a6a6"
      },
      "source": [
        "# 13\n",
        "y[:11]"
      ],
      "execution_count": 13,
      "outputs": [
        {
          "output_type": "execute_result",
          "data": {
            "text/plain": [
              "array([ 21, 219,   8,  80, 153,   3,  10, 726,  56,   2, 603], dtype=int32)"
            ]
          },
          "metadata": {},
          "execution_count": 13
        }
      ]
    },
    {
      "cell_type": "code",
      "metadata": {
        "colab": {
          "base_uri": "https://localhost:8080/"
        },
        "id": "cH1Psda3bE2X",
        "outputId": "a6f63ba1-5d74-4dc3-8cca-d129cb12521b"
      },
      "source": [
        "# 14\n",
        "y_cat = to_categorical(y, num_classes=vocab_size)\n",
        "y_cat[:11]"
      ],
      "execution_count": 14,
      "outputs": [
        {
          "output_type": "execute_result",
          "data": {
            "text/plain": [
              "array([[0., 0., 0., ..., 0., 0., 0.],\n",
              "       [0., 0., 0., ..., 0., 0., 0.],\n",
              "       [0., 0., 0., ..., 0., 0., 0.],\n",
              "       ...,\n",
              "       [0., 0., 0., ..., 0., 0., 0.],\n",
              "       [0., 0., 1., ..., 0., 0., 0.],\n",
              "       [0., 0., 0., ..., 0., 0., 0.]], dtype=float32)"
            ]
          },
          "metadata": {},
          "execution_count": 14
        }
      ]
    },
    {
      "cell_type": "code",
      "metadata": {
        "colab": {
          "base_uri": "https://localhost:8080/"
        },
        "id": "lSxXJ1Rtbma_",
        "outputId": "2eecd9b8-214a-4964-8b01-ec96fa8b2117"
      },
      "source": [
        "# 15\n",
        "seq_length = X.shape[1]\n",
        "seq_length"
      ],
      "execution_count": 15,
      "outputs": [
        {
          "output_type": "execute_result",
          "data": {
            "text/plain": [
              "19"
            ]
          },
          "metadata": {},
          "execution_count": 15
        }
      ]
    },
    {
      "cell_type": "markdown",
      "metadata": {
        "id": "Y5POhZgRb8Gx"
      },
      "source": [
        "### LSTM Model creation:"
      ]
    },
    {
      "cell_type": "code",
      "metadata": {
        "id": "sY1wypPpb1rb"
      },
      "source": [
        "# 16\n",
        "model = Sequential()\n",
        "\n",
        "model.add(Embedding(vocab_size, 50, input_length=seq_length))\n",
        "model.add(LSTM(100, return_sequences=True))\n",
        "model.add(LSTM(100))\n",
        "model.add(Dense(100, activation=\"relu\"))\n",
        "model.add(Dense(vocab_size, activation=\"softmax\"))\n",
        "\n",
        "model.compile(loss=\"categorical_crossentropy\", optimizer=\"adam\", metrics=[\"accuracy\"])"
      ],
      "execution_count": 16,
      "outputs": []
    },
    {
      "cell_type": "code",
      "metadata": {
        "colab": {
          "base_uri": "https://localhost:8080/"
        },
        "id": "eDfjfBe9lRB5",
        "outputId": "f257a049-3d07-4afe-9b83-3c6272dfa865"
      },
      "source": [
        "# 17\n",
        "model.summary()"
      ],
      "execution_count": 17,
      "outputs": [
        {
          "output_type": "stream",
          "name": "stdout",
          "text": [
            "Model: \"sequential\"\n",
            "_________________________________________________________________\n",
            " Layer (type)                Output Shape              Param #   \n",
            "=================================================================\n",
            " embedding (Embedding)       (None, 19, 50)            69800     \n",
            "                                                                 \n",
            " lstm (LSTM)                 (None, 19, 100)           60400     \n",
            "                                                                 \n",
            " lstm_1 (LSTM)               (None, 100)               80400     \n",
            "                                                                 \n",
            " dense (Dense)               (None, 100)               10100     \n",
            "                                                                 \n",
            " dense_1 (Dense)             (None, 1396)              140996    \n",
            "                                                                 \n",
            "=================================================================\n",
            "Total params: 361,696\n",
            "Trainable params: 361,696\n",
            "Non-trainable params: 0\n",
            "_________________________________________________________________\n"
          ]
        }
      ]
    },
    {
      "cell_type": "code",
      "metadata": {
        "colab": {
          "base_uri": "https://localhost:8080/"
        },
        "id": "vYhOBkCYfMwV",
        "outputId": "4d46fa47-6870-4127-dab2-780f144dad7a"
      },
      "source": [
        "# 18\n",
        "model.fit(X, y_cat, batch_size=32, epochs=50)"
      ],
      "execution_count": 21,
      "outputs": [
        {
          "output_type": "stream",
          "name": "stdout",
          "text": [
            "Epoch 1/50\n",
            "445/445 [==============================] - 19s 43ms/step - loss: 1.5616 - accuracy: 0.6116\n",
            "Epoch 2/50\n",
            "445/445 [==============================] - 19s 43ms/step - loss: 1.5254 - accuracy: 0.6205\n",
            "Epoch 3/50\n",
            "445/445 [==============================] - 19s 43ms/step - loss: 1.4946 - accuracy: 0.6286\n",
            "Epoch 4/50\n",
            "445/445 [==============================] - 19s 43ms/step - loss: 1.4724 - accuracy: 0.6325\n",
            "Epoch 5/50\n",
            "445/445 [==============================] - 19s 43ms/step - loss: 1.4404 - accuracy: 0.6383\n",
            "Epoch 6/50\n",
            "445/445 [==============================] - 19s 43ms/step - loss: 1.4143 - accuracy: 0.6484\n",
            "Epoch 7/50\n",
            "445/445 [==============================] - 19s 42ms/step - loss: 1.3914 - accuracy: 0.6456\n",
            "Epoch 8/50\n",
            "445/445 [==============================] - 19s 42ms/step - loss: 1.3541 - accuracy: 0.6600\n",
            "Epoch 9/50\n",
            "445/445 [==============================] - 19s 42ms/step - loss: 1.3361 - accuracy: 0.6595\n",
            "Epoch 10/50\n",
            "445/445 [==============================] - 19s 43ms/step - loss: 1.3121 - accuracy: 0.6639\n",
            "Epoch 11/50\n",
            "445/445 [==============================] - 19s 43ms/step - loss: 1.2935 - accuracy: 0.6705\n",
            "Epoch 12/50\n",
            "445/445 [==============================] - 19s 42ms/step - loss: 1.2666 - accuracy: 0.6765\n",
            "Epoch 13/50\n",
            "445/445 [==============================] - 19s 43ms/step - loss: 1.2451 - accuracy: 0.6812\n",
            "Epoch 14/50\n",
            "445/445 [==============================] - 19s 43ms/step - loss: 1.2155 - accuracy: 0.6853\n",
            "Epoch 15/50\n",
            "445/445 [==============================] - 19s 43ms/step - loss: 1.1905 - accuracy: 0.6951\n",
            "Epoch 16/50\n",
            "445/445 [==============================] - 19s 43ms/step - loss: 1.1723 - accuracy: 0.6979\n",
            "Epoch 17/50\n",
            "445/445 [==============================] - 19s 44ms/step - loss: 1.1533 - accuracy: 0.7016\n",
            "Epoch 18/50\n",
            "445/445 [==============================] - 19s 43ms/step - loss: 1.1309 - accuracy: 0.7054\n",
            "Epoch 19/50\n",
            "445/445 [==============================] - 19s 42ms/step - loss: 1.1124 - accuracy: 0.7052\n",
            "Epoch 20/50\n",
            "445/445 [==============================] - 19s 42ms/step - loss: 1.0931 - accuracy: 0.7144\n",
            "Epoch 21/50\n",
            "445/445 [==============================] - 20s 44ms/step - loss: 1.0760 - accuracy: 0.7174\n",
            "Epoch 22/50\n",
            "445/445 [==============================] - 19s 43ms/step - loss: 1.0531 - accuracy: 0.7231\n",
            "Epoch 23/50\n",
            "445/445 [==============================] - 19s 43ms/step - loss: 1.0354 - accuracy: 0.7300\n",
            "Epoch 24/50\n",
            "445/445 [==============================] - 19s 43ms/step - loss: 1.0200 - accuracy: 0.7342\n",
            "Epoch 25/50\n",
            "445/445 [==============================] - 19s 43ms/step - loss: 1.0062 - accuracy: 0.7393\n",
            "Epoch 26/50\n",
            "445/445 [==============================] - 19s 42ms/step - loss: 0.9961 - accuracy: 0.7334\n",
            "Epoch 27/50\n",
            "445/445 [==============================] - 19s 42ms/step - loss: 0.9700 - accuracy: 0.7468\n",
            "Epoch 28/50\n",
            "445/445 [==============================] - 19s 42ms/step - loss: 0.9578 - accuracy: 0.7449\n",
            "Epoch 29/50\n",
            "445/445 [==============================] - 19s 42ms/step - loss: 0.9422 - accuracy: 0.7508\n",
            "Epoch 30/50\n",
            "445/445 [==============================] - 19s 42ms/step - loss: 0.9323 - accuracy: 0.7541\n",
            "Epoch 31/50\n",
            "445/445 [==============================] - 19s 42ms/step - loss: 0.9102 - accuracy: 0.7589\n",
            "Epoch 32/50\n",
            "445/445 [==============================] - 19s 42ms/step - loss: 0.8971 - accuracy: 0.7591\n",
            "Epoch 33/50\n",
            "445/445 [==============================] - 19s 42ms/step - loss: 0.8852 - accuracy: 0.7646\n",
            "Epoch 34/50\n",
            "445/445 [==============================] - 19s 42ms/step - loss: 0.8690 - accuracy: 0.7671\n",
            "Epoch 35/50\n",
            "445/445 [==============================] - 19s 42ms/step - loss: 0.8614 - accuracy: 0.7699\n",
            "Epoch 36/50\n",
            "445/445 [==============================] - 19s 43ms/step - loss: 0.8523 - accuracy: 0.7720\n",
            "Epoch 37/50\n",
            "445/445 [==============================] - 20s 44ms/step - loss: 0.8559 - accuracy: 0.7714\n",
            "Epoch 38/50\n",
            "445/445 [==============================] - 19s 43ms/step - loss: 0.8351 - accuracy: 0.7726\n",
            "Epoch 39/50\n",
            "445/445 [==============================] - 19s 43ms/step - loss: 0.8195 - accuracy: 0.7773\n",
            "Epoch 40/50\n",
            "445/445 [==============================] - 19s 43ms/step - loss: 0.8035 - accuracy: 0.7847\n",
            "Epoch 41/50\n",
            "445/445 [==============================] - 19s 42ms/step - loss: 0.7986 - accuracy: 0.7813\n",
            "Epoch 42/50\n",
            "445/445 [==============================] - 19s 43ms/step - loss: 0.7896 - accuracy: 0.7869\n",
            "Epoch 43/50\n",
            "445/445 [==============================] - 19s 42ms/step - loss: 0.7716 - accuracy: 0.7935\n",
            "Epoch 44/50\n",
            "445/445 [==============================] - 19s 42ms/step - loss: 0.7721 - accuracy: 0.7914\n",
            "Epoch 45/50\n",
            "445/445 [==============================] - 19s 42ms/step - loss: 0.7597 - accuracy: 0.7939\n",
            "Epoch 46/50\n",
            "445/445 [==============================] - 19s 42ms/step - loss: 0.7530 - accuracy: 0.7971\n",
            "Epoch 47/50\n",
            "445/445 [==============================] - 19s 42ms/step - loss: 0.7445 - accuracy: 0.7975\n",
            "Epoch 48/50\n",
            "445/445 [==============================] - 19s 42ms/step - loss: 0.7339 - accuracy: 0.7983\n",
            "Epoch 49/50\n",
            "445/445 [==============================] - 19s 42ms/step - loss: 0.7223 - accuracy: 0.8005\n",
            "Epoch 50/50\n",
            "445/445 [==============================] - 19s 42ms/step - loss: 0.7192 - accuracy: 0.8007\n"
          ]
        },
        {
          "output_type": "execute_result",
          "data": {
            "text/plain": [
              "<keras.callbacks.History at 0x7fa8e01b8190>"
            ]
          },
          "metadata": {},
          "execution_count": 21
        }
      ]
    },
    {
      "cell_type": "markdown",
      "metadata": {
        "id": "K-Sjo-KXfskO"
      },
      "source": [
        "### Poetry Generation:"
      ]
    },
    {
      "cell_type": "code",
      "metadata": {
        "id": "8u8Mw6C5frmD"
      },
      "source": [
        "# 19\n",
        "poetry_length = 10\n",
        "\n",
        "def poetry_generator(seed_text, n_lines):\n",
        "\n",
        "  for i in range(n_lines):\n",
        "    text = []\n",
        "    for _ in range(poetry_length):\n",
        "      encoded = tokenizer.texts_to_sequences([seed_text])\n",
        "      encoded_data = pad_sequences(encoded, maxlen=seq_length, padding=\"pre\")\n",
        "\n",
        "      y_pred = np.argmax(model.predict(encoded_data), axis=-1)\n",
        "\n",
        "      predicted_word = \"\"\n",
        "\n",
        "      for word, index in tokenizer.word_index.items():\n",
        "        if index == y_pred:\n",
        "          predicted_word = word\n",
        "          break\n",
        "\n",
        "      seed_text = seed_text + \" \" + predicted_word\n",
        "      text.append(predicted_word)\n",
        "\n",
        "    seed_text = text[-1]\n",
        "    text = \" \".join(text)\n",
        "    print(text)"
      ],
      "execution_count": 22,
      "outputs": []
    },
    {
      "cell_type": "code",
      "metadata": {
        "colab": {
          "base_uri": "https://localhost:8080/"
        },
        "id": "JtzKYtpMzSZJ",
        "outputId": "193bdb47-18cf-458d-b440-86f62786ec20"
      },
      "source": [
        "# 20\n",
        "seed_text = \"love me like you do\"\n",
        "poetry_generator(seed_text, 5)"
      ],
      "execution_count": 23,
      "outputs": [
        {
          "output_type": "stream",
          "name": "stdout",
          "text": [
            "1/1 [==============================] - 0s 25ms/step\n",
            "1/1 [==============================] - 0s 21ms/step\n",
            "1/1 [==============================] - 0s 20ms/step\n",
            "1/1 [==============================] - 0s 28ms/step\n",
            "1/1 [==============================] - 0s 20ms/step\n",
            "1/1 [==============================] - 0s 24ms/step\n",
            "1/1 [==============================] - 0s 22ms/step\n",
            "1/1 [==============================] - 0s 22ms/step\n",
            "1/1 [==============================] - 0s 23ms/step\n",
            "1/1 [==============================] - 0s 20ms/step\n",
            "is on your name when was a million years ago\n",
            "1/1 [==============================] - 0s 23ms/step\n",
            "1/1 [==============================] - 0s 24ms/step\n",
            "1/1 [==============================] - 0s 25ms/step\n",
            "1/1 [==============================] - 0s 21ms/step\n",
            "1/1 [==============================] - 0s 20ms/step\n",
            "1/1 [==============================] - 0s 27ms/step\n",
            "1/1 [==============================] - 0s 23ms/step\n",
            "1/1 [==============================] - 0s 24ms/step\n",
            "1/1 [==============================] - 0s 21ms/step\n",
            "1/1 [==============================] - 0s 20ms/step\n",
            "you swear you you should i give you everything that\n",
            "1/1 [==============================] - 0s 20ms/step\n",
            "1/1 [==============================] - 0s 22ms/step\n",
            "1/1 [==============================] - 0s 20ms/step\n",
            "1/1 [==============================] - 0s 19ms/step\n",
            "1/1 [==============================] - 0s 25ms/step\n",
            "1/1 [==============================] - 0s 21ms/step\n",
            "1/1 [==============================] - 0s 21ms/step\n",
            "1/1 [==============================] - 0s 19ms/step\n",
            "1/1 [==============================] - 0s 22ms/step\n",
            "1/1 [==============================] - 0s 21ms/step\n",
            "i never knew never love you leave my heart around\n",
            "1/1 [==============================] - 0s 19ms/step\n",
            "1/1 [==============================] - 0s 19ms/step\n",
            "1/1 [==============================] - 0s 22ms/step\n",
            "1/1 [==============================] - 0s 24ms/step\n",
            "1/1 [==============================] - 0s 20ms/step\n",
            "1/1 [==============================] - 0s 21ms/step\n",
            "1/1 [==============================] - 0s 25ms/step\n",
            "1/1 [==============================] - 0s 27ms/step\n",
            "1/1 [==============================] - 0s 30ms/step\n",
            "1/1 [==============================] - 0s 23ms/step\n",
            "had it in hold me like i'm more than just\n",
            "1/1 [==============================] - 0s 25ms/step\n",
            "1/1 [==============================] - 0s 23ms/step\n",
            "1/1 [==============================] - 0s 21ms/step\n",
            "1/1 [==============================] - 0s 21ms/step\n",
            "1/1 [==============================] - 0s 23ms/step\n",
            "1/1 [==============================] - 0s 22ms/step\n",
            "1/1 [==============================] - 0s 20ms/step\n",
            "1/1 [==============================] - 0s 21ms/step\n",
            "1/1 [==============================] - 0s 22ms/step\n",
            "1/1 [==============================] - 0s 21ms/step\n",
            "'cause you heard it rumor has it down you a\n"
          ]
        }
      ]
    }
  ]
}